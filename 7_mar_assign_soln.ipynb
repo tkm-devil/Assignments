{
 "cells": [
  {
   "cell_type": "markdown",
   "id": "eb7e9bf5-8605-445a-9279-b14ac8cfdb0a",
   "metadata": {},
   "source": [
    "# Question 1\n",
    "Answer :  The three measures of central tendency are:\n",
    "\n",
    "        1. Mean\n",
    "        2. Median\n",
    "        3. Mode"
   ]
  },
  {
   "cell_type": "markdown",
   "id": "d4955e0e-a586-4905-9c09-4dcf5a6d4290",
   "metadata": {},
   "source": [
    "# Question 2\n",
    "Answer : \n",
    "\n",
    "        1. Mean - The mean is the sum of all values in a dataset divided by the total number of values. It represents the average value of the dataset and is sensitive to outliers.\n",
    "        \n",
    "        2. Median - The median is the middle value in a sorted dataset. It represents the value that separates the higher half of the dataset from the lower half. It is less sensitive to outliers than the mean and is often used when the dataset has extreme values.\n",
    "        \n",
    "        3. Mode - The mode is the value that occurs most frequently in a dataset. It represents the most common value in the dataset and is used to describe the central tendency of categorical or nominal data."
   ]
  },
  {
   "cell_type": "markdown",
   "id": "ae5cbcb0-bb62-41f1-baae-03db449b6071",
   "metadata": {},
   "source": [
    "# Question 3\n",
    "Answer : "
   ]
  },
  {
   "cell_type": "code",
   "execution_count": 1,
   "id": "dc88e68b-fe97-4504-9805-21672e80c5a0",
   "metadata": {},
   "outputs": [],
   "source": [
    "import numpy as np\n",
    "from scipy import stats"
   ]
  },
  {
   "cell_type": "code",
   "execution_count": 2,
   "id": "d9776b87-acc9-4801-9db5-46601aedaf42",
   "metadata": {},
   "outputs": [],
   "source": [
    "heights = [178,177,176,177,178.2,178,175,179,180,175,178.9,176.2,177,172.5,178,176.5]"
   ]
  },
  {
   "cell_type": "code",
   "execution_count": 8,
   "id": "44bd210d-43ac-4622-ae0a-0911b745f0e5",
   "metadata": {},
   "outputs": [
    {
     "data": {
      "text/plain": [
       "177.01875"
      ]
     },
     "execution_count": 8,
     "metadata": {},
     "output_type": "execute_result"
    }
   ],
   "source": [
    "np.mean(heights)"
   ]
  },
  {
   "cell_type": "code",
   "execution_count": 9,
   "id": "43bee971-a2aa-4769-9a4e-18a4181eea40",
   "metadata": {},
   "outputs": [
    {
     "data": {
      "text/plain": [
       "177.0"
      ]
     },
     "execution_count": 9,
     "metadata": {},
     "output_type": "execute_result"
    }
   ],
   "source": [
    "np.median(heights)"
   ]
  },
  {
   "cell_type": "code",
   "execution_count": 10,
   "id": "772e1999-7278-41ba-be5e-6362733723aa",
   "metadata": {},
   "outputs": [
    {
     "name": "stderr",
     "output_type": "stream",
     "text": [
      "/tmp/ipykernel_70/3545065385.py:1: FutureWarning: Unlike other reduction functions (e.g. `skew`, `kurtosis`), the default behavior of `mode` typically preserves the axis it acts along. In SciPy 1.11.0, this behavior will change: the default value of `keepdims` will become False, the `axis` over which the statistic is taken will be eliminated, and the value None will no longer be accepted. Set `keepdims` to True or False to avoid this warning.\n",
      "  mode = stats.mode(heights)\n"
     ]
    }
   ],
   "source": [
    "mode = stats.mode(heights)"
   ]
  },
  {
   "cell_type": "code",
   "execution_count": 11,
   "id": "7bdba5e6-ad4f-429d-93e3-6fb23a243925",
   "metadata": {},
   "outputs": [
    {
     "data": {
      "text/plain": [
       "array([177.])"
      ]
     },
     "execution_count": 11,
     "metadata": {},
     "output_type": "execute_result"
    }
   ],
   "source": [
    "mode[0]"
   ]
  },
  {
   "cell_type": "markdown",
   "id": "751e574c-339e-4dd1-b241-3f7b22217824",
   "metadata": {},
   "source": [
    "# Question 4\n",
    "Answer : "
   ]
  },
  {
   "cell_type": "code",
   "execution_count": 14,
   "id": "e7644677-23f7-434c-9cb6-34c243cc8b99",
   "metadata": {},
   "outputs": [
    {
     "data": {
      "text/plain": [
       "1.7885814036548633"
      ]
     },
     "execution_count": 14,
     "metadata": {},
     "output_type": "execute_result"
    }
   ],
   "source": [
    "np.std(heights)"
   ]
  },
  {
   "cell_type": "markdown",
   "id": "8eec1d91-86b8-4204-a371-e05a2a843832",
   "metadata": {},
   "source": [
    "# Question 5\n",
    "Answer : \n",
    "\n",
    "        1. Range -  The range is the difference between the maximum and minimum values in a dataset. However, it can be influenced by outliers.\n",
    "        \n",
    "        2. Variance - The variance measures how far the values in a dataset are from the mean. It provides an average measure of the spread of data. A higher variance indicates more variability in the dataset.\n",
    "        \n",
    "        3. Standard Deviation - The standard deviation is the square root of the variance. It is a widely used measure of the spread of data and represents how far the values in a dataset are from the mean in standard units. A higher standard deviation indicates more spread or variability in the dataset.\n",
    "        \n",
    "        Example - Let us take example of weights of 10 people in kilograms: [60, 65, 70, 75, 80, 85, 90, 95, 100, 105].\n",
    "        \n",
    "        Range = 105-60 = 45 means dataset varay as musch as 45 kg.\n",
    "        Variance = 291.67 means the values in the dataset are, on average, 291.67 kg squared away from the mean.\n",
    "        Standard deviation = 17.08 means the values in the dataset are, on average, 17.08 kg away from the mean."
   ]
  },
  {
   "cell_type": "markdown",
   "id": "a8ca3053-6c99-4bdb-af40-41b1ea6a8b8c",
   "metadata": {},
   "source": [
    "# Question 6\n",
    "Answer : A Venn diagram is a graphical representation of the relationships between sets, often used in mathematics, logic, and statistics. It consists of circles (or other shapes) that overlap, representing the relationships between the sets.\n",
    "\n",
    "In a Venn diagram, each circle represents a set.\n",
    "\n",
    "We can visualize basic  operation on set through venn diagram like :-\n",
    "Intersection,\n",
    "Union,\n",
    "Difference,\n",
    "Subset,\n",
    "Superset."
   ]
  },
  {
   "cell_type": "markdown",
   "id": "bc283b97-9116-4bd1-b10a-473d1da614ee",
   "metadata": {},
   "source": [
    "# Question 7\n",
    "Answer : Two sets A = {2,3,4,5,6,7} and B = {0,2,6,8,10}.\n",
    "\n",
    "    (i) A insersection B = {2,6}\n",
    "    (ii) A union B = {0,2,3,4,5,6,7,8,10}"
   ]
  },
  {
   "cell_type": "markdown",
   "id": "b45a2b27-f07e-41a7-980a-b2d96859f160",
   "metadata": {},
   "source": [
    "# Question 8\n",
    "Answer : Skewness in data refers to the degree of asymmetry in the distribution of the data. It is a measure of the deviation of the data from a normal distribution.\n",
    "        \n",
    "        Two types of Skewness are :-\n",
    "        1. Right Skewed or Positive Skewed.\n",
    "        2. Left Skewed or Negative Skewed."
   ]
  },
  {
   "cell_type": "markdown",
   "id": "66180cb6-5f50-4903-8884-a9e6cecc6796",
   "metadata": {},
   "source": [
    "# Question 9\n",
    "Answer : If a data set is right skewed, the median is typically lower than the mean. This is because the mean is influenced by the extreme values on the right-hand side of the distribution, which pull the mean towards the right. In contrast, the median is less affected by extreme values and represents the middle value of the dataset, so it tends to be closer to the center of the distribution."
   ]
  },
  {
   "cell_type": "markdown",
   "id": "50543f2e-f2a9-4047-ad69-76f6c031ba7f",
   "metadata": {},
   "source": [
    "# Question 10\n",
    "Answer : \n",
    "\n",
    "        Covariance - \n",
    "            1. Covariance measures the degree to which two variables vary together.\n",
    "            2. Can take on any value, positive, negative, or zero, there is no limit.\n",
    "            3. Covariance is not standardized and is affected by the scale of the variables.\n",
    "            \n",
    "        Correlation - \n",
    "            1. Correlation measures the strength and direction of the linear relationship between two variables.\n",
    "            2. Correlation takes on values between -1 and 1, where -1 indicates a perfect negative correlation, 0 indicates no correlation, and 1 indicates a perfect positive correlation.\n",
    "            3. Correlation is standardized and is not affected by the scale of the variables.\n",
    "            \n",
    "        In statistical analysis, both covariance and correlation are used to describe the relationship between two variables. Covariance is useful in identifying the direction of the relationship, while correlation provides a standardized measure of the strength of the relationship."
   ]
  },
  {
   "cell_type": "markdown",
   "id": "ce66a854-cef4-4cdc-93f4-235f5804dbb0",
   "metadata": {},
   "source": [
    "# Question 11\n",
    "Asnwer : Formula of sample mean is:-\n",
    "            \n",
    "         sample mean = (sum of all values in the sample) / (number of values in the sample)\n",
    "         \n",
    "         where sample mean is denoted by 'x bar'\n",
    "               sum of all values is denoted by 'Sigma(i = 1 to n) xi'\n",
    "               number of values in sample is denoted by 'n'.\n",
    "               \n",
    "        Example :- marks of 5 studemts = 18, 20, 22, 24, and 26.\n",
    "                   sample mean = (18 + 20 + 22 + 24 + 26) / 5\n",
    "                   sample mean = 22"
   ]
  },
  {
   "cell_type": "markdown",
   "id": "563914b7-2cbb-455f-94c2-678a8ebcdbd9",
   "metadata": {},
   "source": [
    "# Question 12\n",
    "Answer : For a normal distribution, the three measures of central tendency - mean, median, and mode - are equal to each other. This is because a normal distribution is symmetric around its mean, so the mean, median, and mode all represent the same value."
   ]
  },
  {
   "cell_type": "markdown",
   "id": "90e74f66-5fca-445d-92e6-117297aa4325",
   "metadata": {},
   "source": [
    "# Question 13\n",
    "Answer : \n",
    "\n",
    "        Covariance - \n",
    "        1. Covariance measures the degree to which two variables vary together.\n",
    "        2. Can take on any value, positive, negative, or zero, there is no limit.\n",
    "        3. Covariance is not standardized and is affected by the scale of the variables.\n",
    "        \n",
    "        Correlation - \n",
    "        1. Correlation measures the strength and direction of the linear relationship between two variables.\n",
    "        2. Correlation takes on values between -1 and 1, where -1 indicates a perfect negative correlation, 0 indicates no correlation, and 1 indicates a perfect positive correlation.\n",
    "        3. Correlation is standardized and is not affected by the scale of the variables."
   ]
  },
  {
   "cell_type": "markdown",
   "id": "4a03c764-f969-4a9b-8c73-00a5e446a4dc",
   "metadata": {},
   "source": [
    "# Question 14\n",
    "Answer : \n",
    "\n",
    "        1. Measures of central tendency: Outliers can greatly impact the mean, since it is calculated by adding up all values and dividing by the number of values. If an outlier is very large or very small compared to the other values, it can pull the mean towards it, making it an inaccurate measure of central tendency.\n",
    "        \n",
    "        2. Measures of dispersion: Outliers can also significantly impact measures of dispersion such as the range, variance, and standard deviation. The range, for example, is greatly affected by outliers since it is simply the difference between the highest and lowest values in the data set. If an outlier is very high or very low, it can greatly increase or decrease the range. Similarly, the variance and standard deviation are also affected by outliers, since they are measures of how far the data points are from the mean. If an outlier is very far from the mean, it can greatly increase the variance and standard deviation.\n",
    "        \n",
    "        Example: Exam Scores\n",
    "        Let's say we have a data set of exam scores for a class of students, with the following scores: 80, 85, 90, 92, 95, and 100. If one student had scored a 50 on the exam, this outlier could significantly impact the mean score for the class, making it lower than it should be. The median score would be less affected by the outlier, since it only takes into account the middle score(s). However, the outlier would greatly increase the range and variance of the scores, making them less representative of the typical exam scores for the class."
   ]
  }
 ],
 "metadata": {
  "kernelspec": {
   "display_name": "Python 3 (ipykernel)",
   "language": "python",
   "name": "python3"
  },
  "language_info": {
   "codemirror_mode": {
    "name": "ipython",
    "version": 3
   },
   "file_extension": ".py",
   "mimetype": "text/x-python",
   "name": "python",
   "nbconvert_exporter": "python",
   "pygments_lexer": "ipython3",
   "version": "3.10.8"
  }
 },
 "nbformat": 4,
 "nbformat_minor": 5
}
