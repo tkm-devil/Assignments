{
 "cells": [
  {
   "cell_type": "code",
   "execution_count": 12,
   "id": "0ebe27bd-47a3-4abf-9042-f02768e41ca2",
   "metadata": {},
   "outputs": [],
   "source": [
    "import numpy as np\n",
    "list_ = ['1','2','3','4','5']\n",
    "array_list = np.array(object = list_)"
   ]
  },
  {
   "cell_type": "markdown",
   "id": "ec554ad6-bab5-4d0e-8f0e-69f651724b26",
   "metadata": {},
   "source": [
    "# Question 1\n",
    "Answer : Yes, there is a differnece in the datatypes of variables list_ and array_list. \n",
    "        \n",
    "        list_ - It is a simple python list object.\n",
    "        array_list - It ia a numpy array object."
   ]
  },
  {
   "cell_type": "code",
   "execution_count": 13,
   "id": "6405ce4b-ab7f-44b8-8593-c39e029387dc",
   "metadata": {},
   "outputs": [
    {
     "data": {
      "text/plain": [
       "list"
      ]
     },
     "execution_count": 13,
     "metadata": {},
     "output_type": "execute_result"
    }
   ],
   "source": [
    "type(list_)"
   ]
  },
  {
   "cell_type": "code",
   "execution_count": 14,
   "id": "760c7df5-bb2e-4d83-913b-556424b61591",
   "metadata": {},
   "outputs": [
    {
     "data": {
      "text/plain": [
       "numpy.ndarray"
      ]
     },
     "execution_count": 14,
     "metadata": {},
     "output_type": "execute_result"
    }
   ],
   "source": [
    "type(array_list)"
   ]
  },
  {
   "cell_type": "markdown",
   "id": "ad4b19ba-cca3-48f5-a0d8-ab7bcebb38b3",
   "metadata": {},
   "source": [
    "# Question 2\n",
    "Answer : Code to print datatype of every elements in list_ and array_list"
   ]
  },
  {
   "cell_type": "code",
   "execution_count": 15,
   "id": "a7ce4dbb-5c35-4ddf-83ba-d4ef501c905b",
   "metadata": {},
   "outputs": [
    {
     "name": "stdout",
     "output_type": "stream",
     "text": [
      "<class 'str'>\n",
      "<class 'str'>\n",
      "<class 'str'>\n",
      "<class 'str'>\n",
      "<class 'str'>\n"
     ]
    }
   ],
   "source": [
    "# Code to print datatype of every elements in list_\n",
    "for i in list_ :\n",
    "    print(type(i))"
   ]
  },
  {
   "cell_type": "code",
   "execution_count": 16,
   "id": "eb493e92-2a12-43d2-a47d-3875f52af27c",
   "metadata": {},
   "outputs": [
    {
     "name": "stdout",
     "output_type": "stream",
     "text": [
      "<class 'numpy.str_'>\n",
      "<class 'numpy.str_'>\n",
      "<class 'numpy.str_'>\n",
      "<class 'numpy.str_'>\n",
      "<class 'numpy.str_'>\n"
     ]
    }
   ],
   "source": [
    "# Code to print datatype of every elements in array_list\n",
    "for i in array_list : \n",
    "    print(type(i))"
   ]
  },
  {
   "cell_type": "markdown",
   "id": "ad78a49e-60f7-4a32-a327-ce3ab02edef7",
   "metadata": {},
   "source": [
    "# Question 3\n",
    "Answer : "
   ]
  },
  {
   "cell_type": "code",
   "execution_count": 17,
   "id": "8f387529-aaa8-41bb-9dd4-8ae5260a4e20",
   "metadata": {},
   "outputs": [],
   "source": [
    "array_list = np.array(object = list_, dtype = int)"
   ]
  },
  {
   "cell_type": "markdown",
   "id": "9a9d47fe-d6b7-4ca8-9dd1-d06b725bbddc",
   "metadata": {},
   "source": [
    "Yes there will be difference in the datatype of elements in list_ and array_list. \n",
    "\n",
    "        In list_ every element remians string dtype but now in array_list the dtype of each element changes to int64."
   ]
  },
  {
   "cell_type": "code",
   "execution_count": 19,
   "id": "1aa21c7d-64b5-4a63-9efc-d314967971d9",
   "metadata": {},
   "outputs": [
    {
     "name": "stdout",
     "output_type": "stream",
     "text": [
      "<class 'str'>\n",
      "<class 'str'>\n",
      "<class 'str'>\n",
      "<class 'str'>\n",
      "<class 'str'>\n"
     ]
    }
   ],
   "source": [
    "for i in list_:\n",
    "    print(type(i))"
   ]
  },
  {
   "cell_type": "code",
   "execution_count": 20,
   "id": "dcf381db-b09c-4f4e-85eb-ab348d4a2305",
   "metadata": {},
   "outputs": [
    {
     "name": "stdout",
     "output_type": "stream",
     "text": [
      "<class 'numpy.int64'>\n",
      "<class 'numpy.int64'>\n",
      "<class 'numpy.int64'>\n",
      "<class 'numpy.int64'>\n",
      "<class 'numpy.int64'>\n"
     ]
    }
   ],
   "source": [
    "for i in array_list:\n",
    "    print(type(i))"
   ]
  },
  {
   "cell_type": "markdown",
   "id": "d29d0931-1e60-4e08-8e0a-7cd4f0226675",
   "metadata": {},
   "source": [
    "# Part 2"
   ]
  },
  {
   "cell_type": "code",
   "execution_count": 21,
   "id": "082c3c3d-2b95-4a95-a225-84c3c8b1a2b0",
   "metadata": {},
   "outputs": [],
   "source": [
    "import numpy as np\n",
    "num_list = [ [ 1 , 2 , 3 ] , [ 4 , 5 , 6 ] ]\n",
    "num_array = np.array(object = num_list)"
   ]
  },
  {
   "cell_type": "markdown",
   "id": "575e02d4-88c4-44a1-94a8-adc612f743b6",
   "metadata": {},
   "source": [
    "# Question 4\n",
    "Answer : "
   ]
  },
  {
   "cell_type": "code",
   "execution_count": 23,
   "id": "7ad3944a-9f41-4d2d-8a4f-608c2f5a4337",
   "metadata": {},
   "outputs": [
    {
     "name": "stdout",
     "output_type": "stream",
     "text": [
      "Shape of num_array :  (2, 3)\n"
     ]
    }
   ],
   "source": [
    "# (i) Code to find shape of num_array\n",
    "print(\"Shape of num_array : \",num_array.shape)"
   ]
  },
  {
   "cell_type": "code",
   "execution_count": 24,
   "id": "3b59088f-a51d-4d5b-8a5d-a1fa44e292eb",
   "metadata": {},
   "outputs": [
    {
     "name": "stdout",
     "output_type": "stream",
     "text": [
      "Size of num_array :  6\n"
     ]
    }
   ],
   "source": [
    "# (ii) Code to find size of num_array\n",
    "print(\"Size of num_array : \",num_array.size)"
   ]
  },
  {
   "cell_type": "markdown",
   "id": "37ee4076-6894-439a-8674-d8f5423039d6",
   "metadata": {},
   "source": [
    "# Question 5\n",
    "Answer : Code to create a matrix of 3*3 containing zeroes only."
   ]
  },
  {
   "cell_type": "code",
   "execution_count": 34,
   "id": "999ad7ec-9632-4012-8f6b-1d3fe9230b93",
   "metadata": {},
   "outputs": [],
   "source": [
    "zeroes_array = np.zeros((3,3))"
   ]
  },
  {
   "cell_type": "code",
   "execution_count": 35,
   "id": "bd219dfd-d933-425c-ac42-967780be51e3",
   "metadata": {},
   "outputs": [
    {
     "name": "stdout",
     "output_type": "stream",
     "text": [
      "[[0. 0. 0.]\n",
      " [0. 0. 0.]\n",
      " [0. 0. 0.]]\n"
     ]
    }
   ],
   "source": [
    "print(zeroes_array)"
   ]
  },
  {
   "cell_type": "markdown",
   "id": "79a139a3-ec0a-4eee-bdf0-92a7dbc74ad0",
   "metadata": {},
   "source": [
    "# Question 6\n",
    "Answer : Code to create a 5*5 identity matrix "
   ]
  },
  {
   "cell_type": "code",
   "execution_count": 43,
   "id": "306189de-7b8b-48df-8c40-90b4a2a6f0d8",
   "metadata": {},
   "outputs": [],
   "source": [
    "id_matrix = np.eye(5,dtype = int)"
   ]
  },
  {
   "cell_type": "code",
   "execution_count": 44,
   "id": "a25076e7-84ef-4aef-8fa0-11961f275154",
   "metadata": {},
   "outputs": [
    {
     "name": "stdout",
     "output_type": "stream",
     "text": [
      "[[1 0 0 0 0]\n",
      " [0 1 0 0 0]\n",
      " [0 0 1 0 0]\n",
      " [0 0 0 1 0]\n",
      " [0 0 0 0 1]]\n"
     ]
    }
   ],
   "source": [
    "print(id_matrix)"
   ]
  },
  {
   "cell_type": "code",
   "execution_count": null,
   "id": "83d153d8-0472-4c2f-8fdd-b56299b34a54",
   "metadata": {},
   "outputs": [],
   "source": []
  }
 ],
 "metadata": {
  "kernelspec": {
   "display_name": "Python 3 (ipykernel)",
   "language": "python",
   "name": "python3"
  },
  "language_info": {
   "codemirror_mode": {
    "name": "ipython",
    "version": 3
   },
   "file_extension": ".py",
   "mimetype": "text/x-python",
   "name": "python",
   "nbconvert_exporter": "python",
   "pygments_lexer": "ipython3",
   "version": "3.10.8"
  }
 },
 "nbformat": 4,
 "nbformat_minor": 5
}
