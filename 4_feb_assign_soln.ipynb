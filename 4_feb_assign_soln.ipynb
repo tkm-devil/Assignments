{
 "cells": [
  {
   "cell_type": "markdown",
   "id": "afe9ef3c-f9a3-4b4a-a126-6c0290205bfa",
   "metadata": {},
   "source": [
    "Question 1\n",
    "Answer : Sorted the given list of tuples based on integer value using a lambda function."
   ]
  },
  {
   "cell_type": "code",
   "execution_count": 3,
   "id": "8defb88c-554b-430f-839d-abcf1210d628",
   "metadata": {},
   "outputs": [],
   "source": [
    "l = [('Sachin Tendulkar', 34357), ('Ricky Ponting', 27483), ('Jack Kallis', 25534), ('Virat Kohli', 24936)]\n",
    "sorted_list = sorted(l, key = lambda x : x[1])  "
   ]
  },
  {
   "cell_type": "code",
   "execution_count": 5,
   "id": "f3da4d12-3e59-4a8d-91c5-1140b7bd431f",
   "metadata": {},
   "outputs": [
    {
     "data": {
      "text/plain": [
       "[('Virat Kohli', 24936),\n",
       " ('Jack Kallis', 25534),\n",
       " ('Ricky Ponting', 27483),\n",
       " ('Sachin Tendulkar', 34357)]"
      ]
     },
     "execution_count": 5,
     "metadata": {},
     "output_type": "execute_result"
    }
   ],
   "source": [
    "sorted_list"
   ]
  },
  {
   "cell_type": "markdown",
   "id": "fc15ceff-6d53-4a78-a902-4fcb4bcf8ea7",
   "metadata": {},
   "source": [
    "Question 2\n",
    "Answer : The squares of all the numbers in the given list of integers using lambda and map functions."
   ]
  },
  {
   "cell_type": "code",
   "execution_count": 6,
   "id": "e00a4751-1e43-4e2f-8135-776de71a9cb7",
   "metadata": {},
   "outputs": [
    {
     "data": {
      "text/plain": [
       "[1, 4, 9, 16, 25, 36, 49, 64, 81, 100]"
      ]
     },
     "execution_count": 6,
     "metadata": {},
     "output_type": "execute_result"
    }
   ],
   "source": [
    "l = [1, 2, 3, 4, 5, 6, 7, 8, 9, 10]\n",
    "list(map(lambda x : x**2,l))"
   ]
  },
  {
   "cell_type": "markdown",
   "id": "0af6ab3b-a878-4a9e-a7b6-aa5e2beb53e8",
   "metadata": {},
   "source": [
    "Question 3\n",
    "Answer : Converted the given list of integers into a tuple of strings."
   ]
  },
  {
   "cell_type": "code",
   "execution_count": 11,
   "id": "609ef13c-835a-47df-898d-d503ec7b8e32",
   "metadata": {},
   "outputs": [],
   "source": [
    "l = [1, 2, 3, 4, 5, 6, 7, 8, 9, 10]\n",
    "x = tuple(map(lambda s : str(s),l))"
   ]
  },
  {
   "cell_type": "code",
   "execution_count": 12,
   "id": "aa0de905-47e6-4362-a955-1368b530d1e9",
   "metadata": {},
   "outputs": [
    {
     "data": {
      "text/plain": [
       "('1', '2', '3', '4', '5', '6', '7', '8', '9', '10')"
      ]
     },
     "execution_count": 12,
     "metadata": {},
     "output_type": "execute_result"
    }
   ],
   "source": [
    "x"
   ]
  },
  {
   "cell_type": "markdown",
   "id": "f21657d1-40b8-42f3-b795-aa80b1d5e6fb",
   "metadata": {},
   "source": [
    "Question 4\n",
    "Answer : Computed the product of a list containing numbers from 1 to 25."
   ]
  },
  {
   "cell_type": "code",
   "execution_count": 24,
   "id": "239d5404-d1a8-476e-987e-c3a5ee1281a5",
   "metadata": {},
   "outputs": [],
   "source": [
    "from functools import reduce"
   ]
  },
  {
   "cell_type": "code",
   "execution_count": 25,
   "id": "0ca217c7-6325-44fc-aaa8-4f5cd02b1c22",
   "metadata": {},
   "outputs": [
    {
     "data": {
      "text/plain": [
       "15511210043330985984000000"
      ]
     },
     "execution_count": 25,
     "metadata": {},
     "output_type": "execute_result"
    }
   ],
   "source": [
    "l = []\n",
    "for i in range(1,26):\n",
    "    l.append(i)\n",
    "reduce(lambda x,y : x*y,l)"
   ]
  },
  {
   "cell_type": "markdown",
   "id": "2150b94e-7847-46a8-b4ac-3e2eeed058f2",
   "metadata": {},
   "source": [
    "Question 5\n",
    "Answer : Filtered the numbers in a given list that are divisible by 2 and 3"
   ]
  },
  {
   "cell_type": "code",
   "execution_count": 26,
   "id": "0f6e6763-a629-4993-ad6b-105bf72378d7",
   "metadata": {},
   "outputs": [
    {
     "data": {
      "text/plain": [
       "[6, 60, 90, 120]"
      ]
     },
     "execution_count": 26,
     "metadata": {},
     "output_type": "execute_result"
    }
   ],
   "source": [
    "l = [2, 3, 6, 9, 27, 60, 90, 120, 55, 46]\n",
    "list(filter(lambda x : x%2 == 0 and x%3 == 0,l))"
   ]
  },
  {
   "cell_type": "markdown",
   "id": "b1e27e45-0c1f-4cb6-8d6b-d945d13df5e6",
   "metadata": {},
   "source": [
    "Question 6\n",
    "Answer : Palindromes in the given list of strings"
   ]
  },
  {
   "cell_type": "code",
   "execution_count": 35,
   "id": "7fe27e70-a8e2-4209-b76a-3eb19090204b",
   "metadata": {},
   "outputs": [],
   "source": [
    "def reverse_str(x):\n",
    "    q = \"\"\n",
    "    for i in x:\n",
    "        q = i + q\n",
    "    return q"
   ]
  },
  {
   "cell_type": "code",
   "execution_count": 38,
   "id": "f3a0d242-0d94-40c0-b511-f242c5ae3b9a",
   "metadata": {},
   "outputs": [
    {
     "data": {
      "text/plain": [
       "['php', 'aba', 'radar', 'level']"
      ]
     },
     "execution_count": 38,
     "metadata": {},
     "output_type": "execute_result"
    }
   ],
   "source": [
    "l = ['python', 'php', 'aba', 'radar', 'level']\n",
    "list(filter(lambda x : x == reverse_str(x) , l))"
   ]
  }
 ],
 "metadata": {
  "kernelspec": {
   "display_name": "Python 3 (ipykernel)",
   "language": "python",
   "name": "python3"
  },
  "language_info": {
   "codemirror_mode": {
    "name": "ipython",
    "version": 3
   },
   "file_extension": ".py",
   "mimetype": "text/x-python",
   "name": "python",
   "nbconvert_exporter": "python",
   "pygments_lexer": "ipython3",
   "version": "3.10.8"
  }
 },
 "nbformat": 4,
 "nbformat_minor": 5
}
