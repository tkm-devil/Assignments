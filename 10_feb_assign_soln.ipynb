{
 "cells": [
  {
   "cell_type": "markdown",
   "id": "214cca68-3adc-496f-8b55-c15afc178891",
   "metadata": {},
   "source": [
    "# Question 1\n",
    "Answer : open() function if used to open a file in python and in that give have to give filename and the mode in which we wnt to open the file as an argument.\n",
    "    \n",
    "        # Different modes of opening a file in python :-\n",
    "        1. Read only('r') mode - File is opened in only reading mode. If file does not exist error is raised.\n",
    "        2. Write only('w') mode - File is opened in writing mode. File is created if it does not exist. If file exist it is overwritten.\n",
    "        3. Append only('a') mode - File is opened for writing. File is created if does not exist. File is not overwritten is it exists instead new data is appended.\n",
    "        4. Read and write('r+') mode - Opens the file for reading and writing. Raises error if file does not exist.\n",
    "        5. Write and read('w+') mode - Opens the file for reading and writing. File if created if does not exist. Data is overwritten if file exist.\n",
    "        6. Append and Read('a+') mode - Opens the file for writing and reading. File is created if does not exist. Data is not overwritten.\n"
   ]
  },
  {
   "cell_type": "markdown",
   "id": "9956f484-6f01-45ae-9896-b68cbe91c968",
   "metadata": {},
   "source": [
    "# Question 2\n",
    "Answer : close() function is used to close an open file. We should always close a file because due to some disturbance or buffering the changes we made may not be visible until we close the file, thats why it is important to close a file."
   ]
  },
  {
   "cell_type": "markdown",
   "id": "3f2b3e2d-1a81-43ff-bcfc-c4d56174ea92",
   "metadata": {},
   "source": [
    "# Question 3\n",
    "Answer : "
   ]
  },
  {
   "cell_type": "code",
   "execution_count": 1,
   "id": "5661e1b5-68c3-4b08-8802-7c9df98fb89f",
   "metadata": {},
   "outputs": [],
   "source": [
    "f = open(\"test.txt\",\"w\")"
   ]
  },
  {
   "cell_type": "code",
   "execution_count": 2,
   "id": "a19afb24-35e3-4c0a-a0e3-8aa97f8e4ab9",
   "metadata": {},
   "outputs": [
    {
     "data": {
      "text/plain": [
       "33"
      ]
     },
     "execution_count": 2,
     "metadata": {},
     "output_type": "execute_result"
    }
   ],
   "source": [
    "f.write(\"I want to become a Data Scientist\")"
   ]
  },
  {
   "cell_type": "code",
   "execution_count": 3,
   "id": "d6bff5b7-a474-40a2-bba3-7f5885760ebd",
   "metadata": {},
   "outputs": [],
   "source": [
    "f.close()"
   ]
  },
  {
   "cell_type": "code",
   "execution_count": 5,
   "id": "9a05926a-27e9-43eb-a7d5-1e267064b0d0",
   "metadata": {},
   "outputs": [],
   "source": [
    "a = open(\"test.txt\",\"r\")"
   ]
  },
  {
   "cell_type": "code",
   "execution_count": 6,
   "id": "60317c3d-2894-45c0-8e7b-f59e42fd906a",
   "metadata": {},
   "outputs": [
    {
     "data": {
      "text/plain": [
       "'I want to become a Data Scientist'"
      ]
     },
     "execution_count": 6,
     "metadata": {},
     "output_type": "execute_result"
    }
   ],
   "source": [
    "a.read()"
   ]
  },
  {
   "cell_type": "code",
   "execution_count": 7,
   "id": "1d44d819-d27e-44bc-9308-eceb9b328098",
   "metadata": {},
   "outputs": [],
   "source": [
    "a.close()"
   ]
  },
  {
   "cell_type": "markdown",
   "id": "43f95e38-bbc4-4b58-b694-08d78a6b8161",
   "metadata": {},
   "source": [
    "# Question 4\n",
    "Answer :"
   ]
  },
  {
   "cell_type": "code",
   "execution_count": 8,
   "id": "076b3f1d-3514-461d-be6c-45226e8ddb91",
   "metadata": {},
   "outputs": [],
   "source": [
    "f = open(\"hello.txt\",\"w\")"
   ]
  },
  {
   "cell_type": "code",
   "execution_count": 9,
   "id": "c1c350c4-f296-4be6-88e6-5f73c5bbe888",
   "metadata": {},
   "outputs": [
    {
     "data": {
      "text/plain": [
       "6"
      ]
     },
     "execution_count": 9,
     "metadata": {},
     "output_type": "execute_result"
    }
   ],
   "source": [
    "f.write(\"Hello\\n\")"
   ]
  },
  {
   "cell_type": "code",
   "execution_count": 10,
   "id": "f30e4be9-d19b-44e1-b12c-0e62f846d561",
   "metadata": {},
   "outputs": [
    {
     "data": {
      "text/plain": [
       "17"
      ]
     },
     "execution_count": 10,
     "metadata": {},
     "output_type": "execute_result"
    }
   ],
   "source": [
    "f.write(\"My name is Tilak\\n\")"
   ]
  },
  {
   "cell_type": "code",
   "execution_count": 11,
   "id": "f24e0ad8-5994-40fa-8059-9d1bbb33aa9e",
   "metadata": {},
   "outputs": [
    {
     "data": {
      "text/plain": [
       "43"
      ]
     },
     "execution_count": 11,
     "metadata": {},
     "output_type": "execute_result"
    }
   ],
   "source": [
    "f.write(\"I am a second year student at NIT Durgapur\\n\")"
   ]
  },
  {
   "cell_type": "code",
   "execution_count": 12,
   "id": "863c436d-76c1-4a00-8954-03afaebfe8c7",
   "metadata": {},
   "outputs": [],
   "source": [
    "f.close()"
   ]
  },
  {
   "cell_type": "code",
   "execution_count": 13,
   "id": "94a2dff8-2f2a-4b89-90e2-11746211511f",
   "metadata": {},
   "outputs": [],
   "source": [
    "a = open(\"hello.txt\",\"r\")"
   ]
  },
  {
   "cell_type": "code",
   "execution_count": 14,
   "id": "adf8e23a-865b-478f-9e82-0f054a890a4f",
   "metadata": {},
   "outputs": [
    {
     "data": {
      "text/plain": [
       "'Hello\\nMy name is Tilak\\nI am a second year student at NIT Durgapur\\n'"
      ]
     },
     "execution_count": 14,
     "metadata": {},
     "output_type": "execute_result"
    }
   ],
   "source": [
    "a.read()"
   ]
  },
  {
   "cell_type": "markdown",
   "id": "1eceea6e-0f63-45d3-a02f-6d22182fcb3d",
   "metadata": {},
   "source": [
    "read() function simply returns all data present in the list ."
   ]
  },
  {
   "cell_type": "code",
   "execution_count": 15,
   "id": "41f5007e-6f17-47da-93dc-7916367a2910",
   "metadata": {},
   "outputs": [
    {
     "data": {
      "text/plain": [
       "0"
      ]
     },
     "execution_count": 15,
     "metadata": {},
     "output_type": "execute_result"
    }
   ],
   "source": [
    "a.seek(0)"
   ]
  },
  {
   "cell_type": "code",
   "execution_count": 16,
   "id": "ad566b00-1ca7-4133-92c0-949cec0ad5de",
   "metadata": {},
   "outputs": [
    {
     "data": {
      "text/plain": [
       "'Hello\\n'"
      ]
     },
     "execution_count": 16,
     "metadata": {},
     "output_type": "execute_result"
    }
   ],
   "source": [
    "a.readline()"
   ]
  },
  {
   "cell_type": "code",
   "execution_count": 17,
   "id": "ebd59241-284e-4ea9-ba40-15d322a909d5",
   "metadata": {},
   "outputs": [
    {
     "data": {
      "text/plain": [
       "'My name is Tilak\\n'"
      ]
     },
     "execution_count": 17,
     "metadata": {},
     "output_type": "execute_result"
    }
   ],
   "source": [
    "a.readline()"
   ]
  },
  {
   "cell_type": "code",
   "execution_count": 18,
   "id": "7664b07a-ffe1-4247-9637-bbf08a86c9ea",
   "metadata": {},
   "outputs": [
    {
     "data": {
      "text/plain": [
       "'I am a second year student at NIT Durgapur\\n'"
      ]
     },
     "execution_count": 18,
     "metadata": {},
     "output_type": "execute_result"
    }
   ],
   "source": [
    "a.readline()"
   ]
  },
  {
   "cell_type": "markdown",
   "id": "f2a65dbc-a685-4024-99da-e7edc38fe735",
   "metadata": {},
   "source": [
    "readline() function reads the file line by line and return one line at a time."
   ]
  },
  {
   "cell_type": "code",
   "execution_count": 19,
   "id": "77e304b6-1a47-4f2b-9d3f-b0bf625e92b0",
   "metadata": {},
   "outputs": [
    {
     "data": {
      "text/plain": [
       "0"
      ]
     },
     "execution_count": 19,
     "metadata": {},
     "output_type": "execute_result"
    }
   ],
   "source": [
    "a.seek(0)"
   ]
  },
  {
   "cell_type": "code",
   "execution_count": 20,
   "id": "cadcdfd1-c95e-4026-8216-ad3c323a9374",
   "metadata": {},
   "outputs": [
    {
     "data": {
      "text/plain": [
       "['Hello\\n',\n",
       " 'My name is Tilak\\n',\n",
       " 'I am a second year student at NIT Durgapur\\n']"
      ]
     },
     "execution_count": 20,
     "metadata": {},
     "output_type": "execute_result"
    }
   ],
   "source": [
    "a.readlines()"
   ]
  },
  {
   "cell_type": "markdown",
   "id": "a542c66f-a6ba-4096-95ba-72e2810ae6a0",
   "metadata": {},
   "source": [
    "readlines() function return all the lines in a list format where each element is a line in the file."
   ]
  },
  {
   "cell_type": "markdown",
   "id": "81a12a54-79d4-4c65-ae4a-c482127670dd",
   "metadata": {},
   "source": [
    "# Question 5\n",
    "Answer : 'with' statement is used with open() to simply open a file or we can say it is another method to open a file. The main advantage of used this method is that we dont have to close our file again and again, 'with' statement closes the file on its own."
   ]
  },
  {
   "cell_type": "code",
   "execution_count": 21,
   "id": "f383174f-caf1-43ca-b810-4e59437afd14",
   "metadata": {},
   "outputs": [],
   "source": [
    "# example :-\n",
    "with open(\"newtest.txt\",\"w\") as f:\n",
    "    f.write(\"Data Science Masters course is highly curated and uniquely designed according to the latest industry standards. This program instills students the skills essential to knowledge discovery efforts to identify standard, novel, and truly differentiated solutions and decision-making, including skills in managing, querying, analyzing, visualizing, and extracting meaning from extremely large data sets. This trending program provides students with the statistical, mathematical and computational skills needed to meet the large-scale data science challenges of today's professional world. You will learn all the stack required to work in data science industry including cloud infrastructure and real-time industry projects. This course will be taught in Hindi language. Data Science Masters course is highly curated and uniquely designed according to the latest industry standards. This program instills students the skills essential to knowledge discovery efforts to identify standard, novel, and truly differentiated solutions and decision-making, including skills in managing, querying, analyzing, visualizing, and extracting meaning from extremely large data sets. This trending program provides students with the statistical, mathematical and computational skills needed to meet the large-scale data science challenges of today's professional world. You will learn all the stack required to work in data science industry including cloud infrastructure and real-time industry projects. This course will be taught in Hindi language. Data Science Masters course is highly curated and uniquely designed according to the latest industry standards. This program instills students the skills essential to knowledge discovery efforts to identify standard, novel, and truly differentiated solutions and decision-making, including skills in managing, querying, analyzing, visualizing, and extracting meaning from extremely large data sets. This trending program provides students with the statistical, mathematical and computational skills needed to meet the large-scale data science challenges of today's professional world. You will learn all the stack required to work in data science industry including cloud infrastructure and real-time industry projects. This course will be taught in Hindi language.\")"
   ]
  },
  {
   "cell_type": "code",
   "execution_count": 22,
   "id": "0e2ad302-e894-4839-914d-f80345a9e1ba",
   "metadata": {},
   "outputs": [
    {
     "name": "stdout",
     "output_type": "stream",
     "text": [
      "Data Science Masters course is highly curated and uniquely designed according to the latest industry standards. This program instills students the skills essential to knowledge discovery efforts to identify standard, novel, and truly differentiated solutions and decision-making, including skills in managing, querying, analyzing, visualizing, and extracting meaning from extremely large data sets. This trending program provides students with the statistical, mathematical and computational skills needed to meet the large-scale data science challenges of today's professional world. You will learn all the stack required to work in data science industry including cloud infrastructure and real-time industry projects. This course will be taught in Hindi language. Data Science Masters course is highly curated and uniquely designed according to the latest industry standards. This program instills students the skills essential to knowledge discovery efforts to identify standard, novel, and truly differentiated solutions and decision-making, including skills in managing, querying, analyzing, visualizing, and extracting meaning from extremely large data sets. This trending program provides students with the statistical, mathematical and computational skills needed to meet the large-scale data science challenges of today's professional world. You will learn all the stack required to work in data science industry including cloud infrastructure and real-time industry projects. This course will be taught in Hindi language. Data Science Masters course is highly curated and uniquely designed according to the latest industry standards. This program instills students the skills essential to knowledge discovery efforts to identify standard, novel, and truly differentiated solutions and decision-making, including skills in managing, querying, analyzing, visualizing, and extracting meaning from extremely large data sets. This trending program provides students with the statistical, mathematical and computational skills needed to meet the large-scale data science challenges of today's professional world. You will learn all the stack required to work in data science industry including cloud infrastructure and real-time industry projects. This course will be taught in Hindi language.\n"
     ]
    }
   ],
   "source": [
    "with open(\"newtest.txt\",\"r\") as f:\n",
    "    print(f.read())"
   ]
  },
  {
   "cell_type": "markdown",
   "id": "1eee7f15-a730-4139-a67a-1770d4cd7b90",
   "metadata": {},
   "source": [
    "# Question 6\n",
    "Answer : \n",
    "\n",
    "        write() - Simply writes data into a file. Take data as a string in parameter.\n",
    "        writelines() - writes the content of list into a file. Take data as a list of string in parameter."
   ]
  },
  {
   "cell_type": "code",
   "execution_count": 23,
   "id": "f8669945-4e52-4370-8293-90fc7d2cb2fd",
   "metadata": {},
   "outputs": [],
   "source": [
    "# write exmaple\n",
    "with open(\"test1.txt\",\"w\") as f:\n",
    "    f.write(\"Hello!! How are you?\\n I am fine thanks\\n\")"
   ]
  },
  {
   "cell_type": "code",
   "execution_count": 24,
   "id": "78e3e43a-6eb8-4172-8ac3-af10a454078b",
   "metadata": {},
   "outputs": [],
   "source": [
    "# writelines example\n",
    "with open(\"test2.txt\",\"w\") as f:\n",
    "    f.writelines([\"Hello!! How are you?\\n\",\"I am fine thanks\\n\"])"
   ]
  }
 ],
 "metadata": {
  "kernelspec": {
   "display_name": "Python 3 (ipykernel)",
   "language": "python",
   "name": "python3"
  },
  "language_info": {
   "codemirror_mode": {
    "name": "ipython",
    "version": 3
   },
   "file_extension": ".py",
   "mimetype": "text/x-python",
   "name": "python",
   "nbconvert_exporter": "python",
   "pygments_lexer": "ipython3",
   "version": "3.10.8"
  }
 },
 "nbformat": 4,
 "nbformat_minor": 5
}
