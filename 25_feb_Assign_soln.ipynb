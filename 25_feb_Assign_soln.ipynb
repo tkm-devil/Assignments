{
 "cells": [
  {
   "cell_type": "code",
   "execution_count": 2,
   "id": "6a5c73b2-325a-4ed0-a3b1-38be94d4456f",
   "metadata": {},
   "outputs": [],
   "source": [
    "import pandas as pd\n",
    "course_name = ['Data Science', 'Machine Learning', 'Big Data', 'Data Engineer']\n",
    "duration = [2,3,6,4]\n",
    "df = pd.DataFrame(data = {'course_name' : course_name, 'duration' : duration})"
   ]
  },
  {
   "cell_type": "code",
   "execution_count": 3,
   "id": "11d51f33-9b47-46e3-873c-4f1f56658a7c",
   "metadata": {},
   "outputs": [
    {
     "data": {
      "text/html": [
       "<div>\n",
       "<style scoped>\n",
       "    .dataframe tbody tr th:only-of-type {\n",
       "        vertical-align: middle;\n",
       "    }\n",
       "\n",
       "    .dataframe tbody tr th {\n",
       "        vertical-align: top;\n",
       "    }\n",
       "\n",
       "    .dataframe thead th {\n",
       "        text-align: right;\n",
       "    }\n",
       "</style>\n",
       "<table border=\"1\" class=\"dataframe\">\n",
       "  <thead>\n",
       "    <tr style=\"text-align: right;\">\n",
       "      <th></th>\n",
       "      <th>course_name</th>\n",
       "      <th>duration</th>\n",
       "    </tr>\n",
       "  </thead>\n",
       "  <tbody>\n",
       "    <tr>\n",
       "      <th>0</th>\n",
       "      <td>Data Science</td>\n",
       "      <td>2</td>\n",
       "    </tr>\n",
       "    <tr>\n",
       "      <th>1</th>\n",
       "      <td>Machine Learning</td>\n",
       "      <td>3</td>\n",
       "    </tr>\n",
       "    <tr>\n",
       "      <th>2</th>\n",
       "      <td>Big Data</td>\n",
       "      <td>6</td>\n",
       "    </tr>\n",
       "    <tr>\n",
       "      <th>3</th>\n",
       "      <td>Data Engineer</td>\n",
       "      <td>4</td>\n",
       "    </tr>\n",
       "  </tbody>\n",
       "</table>\n",
       "</div>"
      ],
      "text/plain": [
       "        course_name  duration\n",
       "0      Data Science         2\n",
       "1  Machine Learning         3\n",
       "2          Big Data         6\n",
       "3     Data Engineer         4"
      ]
     },
     "execution_count": 3,
     "metadata": {},
     "output_type": "execute_result"
    }
   ],
   "source": [
    "df"
   ]
  },
  {
   "cell_type": "markdown",
   "id": "8c746453-6bb4-405c-b1cc-06be75a820c7",
   "metadata": {},
   "source": [
    "# Question 1\n",
    "Answer : "
   ]
  },
  {
   "cell_type": "code",
   "execution_count": 9,
   "id": "a9d69477-fe39-4250-86f7-4bb847867725",
   "metadata": {},
   "outputs": [
    {
     "data": {
      "text/html": [
       "<div>\n",
       "<style scoped>\n",
       "    .dataframe tbody tr th:only-of-type {\n",
       "        vertical-align: middle;\n",
       "    }\n",
       "\n",
       "    .dataframe tbody tr th {\n",
       "        vertical-align: top;\n",
       "    }\n",
       "\n",
       "    .dataframe thead th {\n",
       "        text-align: right;\n",
       "    }\n",
       "</style>\n",
       "<table border=\"1\" class=\"dataframe\">\n",
       "  <thead>\n",
       "    <tr style=\"text-align: right;\">\n",
       "      <th></th>\n",
       "      <th>course_name</th>\n",
       "      <th>duration</th>\n",
       "    </tr>\n",
       "  </thead>\n",
       "  <tbody>\n",
       "    <tr>\n",
       "      <th>2</th>\n",
       "      <td>Big Data</td>\n",
       "      <td>6</td>\n",
       "    </tr>\n",
       "  </tbody>\n",
       "</table>\n",
       "</div>"
      ],
      "text/plain": [
       "  course_name  duration\n",
       "2    Big Data         6"
      ]
     },
     "execution_count": 9,
     "metadata": {},
     "output_type": "execute_result"
    }
   ],
   "source": [
    "df.iloc[2:3]"
   ]
  },
  {
   "cell_type": "markdown",
   "id": "3de2083e-a8fd-4b47-b135-5ea94c9cbc1a",
   "metadata": {},
   "source": [
    "# Question 2\n",
    "Answer : \n",
    "\n",
    "        loc - It is label-based indexing, which means that it uses the labels of rows and columns to select data. When using loc, you specify the names of the rows and columns you want to select. \n",
    "        \n",
    "        iloc - iloc is position-based indexing, which means that it uses integer positions to select data. When using iloc, you specify the integer positions of the rows and columns you want to select."
   ]
  },
  {
   "cell_type": "markdown",
   "id": "d9f7f883-fea0-49c2-80bb-2c0374f79b60",
   "metadata": {},
   "source": [
    "# Question 3\n",
    "Answer :"
   ]
  },
  {
   "cell_type": "code",
   "execution_count": 10,
   "id": "84aedc3b-c7ac-4497-bd51-f40b96bc2612",
   "metadata": {},
   "outputs": [],
   "source": [
    "reindex = [3,0,1,2]"
   ]
  },
  {
   "cell_type": "code",
   "execution_count": 13,
   "id": "a534073a-a1b0-4c34-b4c4-bf0bbf663dcc",
   "metadata": {},
   "outputs": [],
   "source": [
    "new_df = df.set_index(pd.Index(reindex))"
   ]
  },
  {
   "cell_type": "code",
   "execution_count": 14,
   "id": "05f03587-a919-476e-b8ef-a0b2e8d1a618",
   "metadata": {},
   "outputs": [
    {
     "data": {
      "text/html": [
       "<div>\n",
       "<style scoped>\n",
       "    .dataframe tbody tr th:only-of-type {\n",
       "        vertical-align: middle;\n",
       "    }\n",
       "\n",
       "    .dataframe tbody tr th {\n",
       "        vertical-align: top;\n",
       "    }\n",
       "\n",
       "    .dataframe thead th {\n",
       "        text-align: right;\n",
       "    }\n",
       "</style>\n",
       "<table border=\"1\" class=\"dataframe\">\n",
       "  <thead>\n",
       "    <tr style=\"text-align: right;\">\n",
       "      <th></th>\n",
       "      <th>course_name</th>\n",
       "      <th>duration</th>\n",
       "    </tr>\n",
       "  </thead>\n",
       "  <tbody>\n",
       "    <tr>\n",
       "      <th>3</th>\n",
       "      <td>Data Science</td>\n",
       "      <td>2</td>\n",
       "    </tr>\n",
       "    <tr>\n",
       "      <th>0</th>\n",
       "      <td>Machine Learning</td>\n",
       "      <td>3</td>\n",
       "    </tr>\n",
       "    <tr>\n",
       "      <th>1</th>\n",
       "      <td>Big Data</td>\n",
       "      <td>6</td>\n",
       "    </tr>\n",
       "    <tr>\n",
       "      <th>2</th>\n",
       "      <td>Data Engineer</td>\n",
       "      <td>4</td>\n",
       "    </tr>\n",
       "  </tbody>\n",
       "</table>\n",
       "</div>"
      ],
      "text/plain": [
       "        course_name  duration\n",
       "3      Data Science         2\n",
       "0  Machine Learning         3\n",
       "1          Big Data         6\n",
       "2     Data Engineer         4"
      ]
     },
     "execution_count": 14,
     "metadata": {},
     "output_type": "execute_result"
    }
   ],
   "source": [
    "new_df"
   ]
  },
  {
   "cell_type": "code",
   "execution_count": 15,
   "id": "ec24e75e-3c9b-4da9-9805-c1fa7f8c53cf",
   "metadata": {},
   "outputs": [
    {
     "data": {
      "text/plain": [
       "course_name    Data Engineer\n",
       "duration                   4\n",
       "Name: 2, dtype: object"
      ]
     },
     "execution_count": 15,
     "metadata": {},
     "output_type": "execute_result"
    }
   ],
   "source": [
    "new_df.loc[2]"
   ]
  },
  {
   "cell_type": "code",
   "execution_count": 16,
   "id": "2f5b802e-23bb-4dcc-a0a4-82aba58d1661",
   "metadata": {},
   "outputs": [
    {
     "data": {
      "text/plain": [
       "course_name    Big Data\n",
       "duration              6\n",
       "Name: 1, dtype: object"
      ]
     },
     "execution_count": 16,
     "metadata": {},
     "output_type": "execute_result"
    }
   ],
   "source": [
    "new_df.iloc[2]"
   ]
  },
  {
   "cell_type": "markdown",
   "id": "ac86f716-18db-4555-9f79-44106f3529f5",
   "metadata": {},
   "source": [
    "Yes, we observe the difference in output because loc and iloc use different methods of indexing the rows and columns. loc uses label-based indexing, while iloc uses integer position-based indexing."
   ]
  },
  {
   "cell_type": "markdown",
   "id": "f6f99c05-d878-41b5-a210-4f4877b06836",
   "metadata": {},
   "source": [
    "# Next Part"
   ]
  },
  {
   "cell_type": "code",
   "execution_count": 17,
   "id": "32b45ce8-dacd-4d91-a83c-900a564b9d5b",
   "metadata": {},
   "outputs": [],
   "source": [
    "import pandas as pd\n",
    "import numpy as np\n",
    "columns = ['column_1', 'column_2', 'column_3', 'column_4', 'column_5', 'column_6']\n",
    "indices = [1,2,3,4,5,6]\n",
    "#Creating a dataframe:\n",
    "df1 = pd.DataFrame(np.random.rand(6,6), columns = columns, index = indices)"
   ]
  },
  {
   "cell_type": "code",
   "execution_count": 18,
   "id": "89900108-cc65-4fd0-a596-5b3d0cf1527a",
   "metadata": {},
   "outputs": [
    {
     "data": {
      "text/html": [
       "<div>\n",
       "<style scoped>\n",
       "    .dataframe tbody tr th:only-of-type {\n",
       "        vertical-align: middle;\n",
       "    }\n",
       "\n",
       "    .dataframe tbody tr th {\n",
       "        vertical-align: top;\n",
       "    }\n",
       "\n",
       "    .dataframe thead th {\n",
       "        text-align: right;\n",
       "    }\n",
       "</style>\n",
       "<table border=\"1\" class=\"dataframe\">\n",
       "  <thead>\n",
       "    <tr style=\"text-align: right;\">\n",
       "      <th></th>\n",
       "      <th>column_1</th>\n",
       "      <th>column_2</th>\n",
       "      <th>column_3</th>\n",
       "      <th>column_4</th>\n",
       "      <th>column_5</th>\n",
       "      <th>column_6</th>\n",
       "    </tr>\n",
       "  </thead>\n",
       "  <tbody>\n",
       "    <tr>\n",
       "      <th>1</th>\n",
       "      <td>0.864724</td>\n",
       "      <td>0.581496</td>\n",
       "      <td>0.998287</td>\n",
       "      <td>0.310813</td>\n",
       "      <td>0.130838</td>\n",
       "      <td>0.207109</td>\n",
       "    </tr>\n",
       "    <tr>\n",
       "      <th>2</th>\n",
       "      <td>0.864315</td>\n",
       "      <td>0.173630</td>\n",
       "      <td>0.704429</td>\n",
       "      <td>0.784389</td>\n",
       "      <td>0.818628</td>\n",
       "      <td>0.295002</td>\n",
       "    </tr>\n",
       "    <tr>\n",
       "      <th>3</th>\n",
       "      <td>0.559956</td>\n",
       "      <td>0.529336</td>\n",
       "      <td>0.385884</td>\n",
       "      <td>0.857545</td>\n",
       "      <td>0.345198</td>\n",
       "      <td>0.083401</td>\n",
       "    </tr>\n",
       "    <tr>\n",
       "      <th>4</th>\n",
       "      <td>0.724820</td>\n",
       "      <td>0.131023</td>\n",
       "      <td>0.994241</td>\n",
       "      <td>0.387829</td>\n",
       "      <td>0.081330</td>\n",
       "      <td>0.747900</td>\n",
       "    </tr>\n",
       "    <tr>\n",
       "      <th>5</th>\n",
       "      <td>0.962132</td>\n",
       "      <td>0.080816</td>\n",
       "      <td>0.932903</td>\n",
       "      <td>0.049259</td>\n",
       "      <td>0.317074</td>\n",
       "      <td>0.395151</td>\n",
       "    </tr>\n",
       "    <tr>\n",
       "      <th>6</th>\n",
       "      <td>0.025891</td>\n",
       "      <td>0.315624</td>\n",
       "      <td>0.306467</td>\n",
       "      <td>0.832848</td>\n",
       "      <td>0.562341</td>\n",
       "      <td>0.501961</td>\n",
       "    </tr>\n",
       "  </tbody>\n",
       "</table>\n",
       "</div>"
      ],
      "text/plain": [
       "   column_1  column_2  column_3  column_4  column_5  column_6\n",
       "1  0.864724  0.581496  0.998287  0.310813  0.130838  0.207109\n",
       "2  0.864315  0.173630  0.704429  0.784389  0.818628  0.295002\n",
       "3  0.559956  0.529336  0.385884  0.857545  0.345198  0.083401\n",
       "4  0.724820  0.131023  0.994241  0.387829  0.081330  0.747900\n",
       "5  0.962132  0.080816  0.932903  0.049259  0.317074  0.395151\n",
       "6  0.025891  0.315624  0.306467  0.832848  0.562341  0.501961"
      ]
     },
     "execution_count": 18,
     "metadata": {},
     "output_type": "execute_result"
    }
   ],
   "source": [
    "df1"
   ]
  },
  {
   "cell_type": "markdown",
   "id": "35514f7d-dae3-4eb2-8799-5b451c94d863",
   "metadata": {},
   "source": [
    "# Question 4\n",
    "Answer : \n",
    "        \n",
    "        (i)"
   ]
  },
  {
   "cell_type": "code",
   "execution_count": 19,
   "id": "d591fd88-9ca1-4fbd-9089-4d1466934bf5",
   "metadata": {},
   "outputs": [
    {
     "data": {
      "text/plain": [
       "column_1    0.666973\n",
       "column_2    0.301988\n",
       "column_3    0.720369\n",
       "column_4    0.537114\n",
       "column_5    0.375901\n",
       "column_6    0.371754\n",
       "dtype: float64"
      ]
     },
     "execution_count": 19,
     "metadata": {},
     "output_type": "execute_result"
    }
   ],
   "source": [
    "df1.mean()"
   ]
  },
  {
   "cell_type": "markdown",
   "id": "e7b4c463-f449-491f-b14e-bb4e16dd3234",
   "metadata": {},
   "source": [
    "        (ii)"
   ]
  },
  {
   "cell_type": "code",
   "execution_count": 20,
   "id": "9a7d62e2-eedb-47c1-8cf6-c8c1f0422a62",
   "metadata": {},
   "outputs": [
    {
     "data": {
      "text/plain": [
       "0.21195266355163922"
      ]
     },
     "execution_count": 20,
     "metadata": {},
     "output_type": "execute_result"
    }
   ],
   "source": [
    "df1['column_2'].std()"
   ]
  },
  {
   "cell_type": "markdown",
   "id": "e80addde-7ef8-41fb-8350-113b7a5ab43c",
   "metadata": {},
   "source": [
    "# Question 5\n",
    "Answer : "
   ]
  },
  {
   "cell_type": "code",
   "execution_count": 21,
   "id": "d67263dc-974f-4f0e-a915-296ab0a0a861",
   "metadata": {},
   "outputs": [],
   "source": [
    "df1.at[2,'column_2'] = \"Tilak\""
   ]
  },
  {
   "cell_type": "code",
   "execution_count": 22,
   "id": "8cec9447-59a6-43d0-8fae-6d8ff557966c",
   "metadata": {},
   "outputs": [
    {
     "data": {
      "text/plain": [
       "1    0.581496\n",
       "2       Tilak\n",
       "3    0.529336\n",
       "4    0.131023\n",
       "5    0.080816\n",
       "6    0.315624\n",
       "Name: column_2, dtype: object"
      ]
     },
     "execution_count": 22,
     "metadata": {},
     "output_type": "execute_result"
    }
   ],
   "source": [
    "df1['column_2']"
   ]
  },
  {
   "cell_type": "code",
   "execution_count": 24,
   "id": "29ad2c70-7085-44d0-b169-d336c46f627e",
   "metadata": {},
   "outputs": [
    {
     "name": "stdout",
     "output_type": "stream",
     "text": [
      "Error: unsupported operand type(s) for +: 'float' and 'str'\n"
     ]
    }
   ],
   "source": [
    "try : \n",
    "    df1['column_2'].mean()\n",
    "except TypeError as e:\n",
    "    print(\"Error:\", e)"
   ]
  },
  {
   "cell_type": "markdown",
   "id": "4f061718-d103-4437-bab8-df09120fa632",
   "metadata": {},
   "source": [
    "This error occurs because we cannot calculate a numerical mean when the column contains non-numeric values."
   ]
  },
  {
   "cell_type": "markdown",
   "id": "5b0cb640-289e-40eb-872e-d6b79a496121",
   "metadata": {},
   "source": [
    "# Question 6\n",
    "Answer : In pandas window function is a way to perform a calculation on a subset of data within a larger dataset. It allows you to perform calculations on a moving window of data, where the size and location of the window can be specified.\n",
    "        \n",
    "        Types of window function :-\n",
    "        1. Rolling\n",
    "        2. Expanding\n",
    "        3. EWM\n",
    "        4. Groupby\n",
    "        5. Window"
   ]
  },
  {
   "cell_type": "markdown",
   "id": "9e0170a2-392a-4e69-a12d-8bb6348aabb6",
   "metadata": {},
   "source": [
    "# Question 7\n",
    "Answer : "
   ]
  },
  {
   "cell_type": "code",
   "execution_count": 25,
   "id": "e6d6997a-4df1-4d44-a966-9179d773c0ce",
   "metadata": {},
   "outputs": [],
   "source": [
    "current_time = pd.Timestamp.now()\n",
    "current_month = current_time.month_name()\n",
    "current_year = current_time.year"
   ]
  },
  {
   "cell_type": "code",
   "execution_count": 26,
   "id": "16a59dc6-4b65-481a-9a7e-6e9c3f86e84d",
   "metadata": {},
   "outputs": [
    {
     "name": "stdout",
     "output_type": "stream",
     "text": [
      "Current Month = April, Current Year = 2023\n"
     ]
    }
   ],
   "source": [
    "print(\"Current Month = {}, Current Year = {}\".format(current_month,current_year))"
   ]
  },
  {
   "cell_type": "markdown",
   "id": "ad414cac-9b0a-4b20-85ef-a1a867de5401",
   "metadata": {},
   "source": [
    "# Question 8\n",
    "Answer : "
   ]
  },
  {
   "cell_type": "code",
   "execution_count": 29,
   "id": "ef73fc64-51aa-43d0-a567-ed4e22ea65bf",
   "metadata": {},
   "outputs": [
    {
     "name": "stdin",
     "output_type": "stream",
     "text": [
      "Enter the first date (YYYY-MM-DD):  2023-03-12\n",
      "Enter the second date (YYYY-MM-DD):  2024-05-01\n"
     ]
    },
    {
     "name": "stdout",
     "output_type": "stream",
     "text": [
      "The difference in dates is 416 days, 0 hours, 0 minutes\n"
     ]
    }
   ],
   "source": [
    "date1 = input(\"Enter the first date (YYYY-MM-DD): \")\n",
    "date2 = input(\"Enter the second date (YYYY-MM-DD): \")\n",
    "\n",
    "converted_date1 = pd.to_datetime(date1)\n",
    "converted_date2 = pd.to_datetime(date2)\n",
    "\n",
    "difference_in_dates = converted_date1 - converted_date2\n",
    "\n",
    "days = abs(difference_in_dates.days)\n",
    "hours = abs(difference_in_dates.seconds // 3600)\n",
    "minutes = abs((difference_in_dates.seconds % 3600) // 60)\n",
    "\n",
    "print(\"The difference in dates is {} days, {} hours, {} minutes\".format(days,hours,minutes))"
   ]
  },
  {
   "cell_type": "markdown",
   "id": "f1b2e33f-beb6-4fae-a035-0e9c0e2155bb",
   "metadata": {},
   "source": [
    "# Question 9\n",
    "Answer : "
   ]
  },
  {
   "cell_type": "code",
   "execution_count": 56,
   "id": "a8743b4e-b826-4dd8-928b-7b2adbfbc000",
   "metadata": {},
   "outputs": [
    {
     "name": "stdin",
     "output_type": "stream",
     "text": [
      "Enter the file path:  https://raw.githubusercontent.com/datasciencedojo/datasets/master/titanic.csv\n",
      "Enter the column name:  Pclass\n",
      "Enter the category order :  1,2,3\n"
     ]
    },
    {
     "name": "stdout",
     "output_type": "stream",
     "text": [
      "     PassengerId  Survived Pclass  \\\n",
      "0              1         0    NaN   \n",
      "1              2         1    NaN   \n",
      "2              3         1    NaN   \n",
      "3              4         1    NaN   \n",
      "4              5         0    NaN   \n",
      "..           ...       ...    ...   \n",
      "886          887         0    NaN   \n",
      "887          888         1    NaN   \n",
      "888          889         0    NaN   \n",
      "889          890         1    NaN   \n",
      "890          891         0    NaN   \n",
      "\n",
      "                                                  Name     Sex   Age  SibSp  \\\n",
      "0                              Braund, Mr. Owen Harris    male  22.0      1   \n",
      "1    Cumings, Mrs. John Bradley (Florence Briggs Th...  female  38.0      1   \n",
      "2                               Heikkinen, Miss. Laina  female  26.0      0   \n",
      "3         Futrelle, Mrs. Jacques Heath (Lily May Peel)  female  35.0      1   \n",
      "4                             Allen, Mr. William Henry    male  35.0      0   \n",
      "..                                                 ...     ...   ...    ...   \n",
      "886                              Montvila, Rev. Juozas    male  27.0      0   \n",
      "887                       Graham, Miss. Margaret Edith  female  19.0      0   \n",
      "888           Johnston, Miss. Catherine Helen \"Carrie\"  female   NaN      1   \n",
      "889                              Behr, Mr. Karl Howell    male  26.0      0   \n",
      "890                                Dooley, Mr. Patrick    male  32.0      0   \n",
      "\n",
      "     Parch            Ticket     Fare Cabin Embarked  \n",
      "0        0         A/5 21171   7.2500   NaN        S  \n",
      "1        0          PC 17599  71.2833   C85        C  \n",
      "2        0  STON/O2. 3101282   7.9250   NaN        S  \n",
      "3        0            113803  53.1000  C123        S  \n",
      "4        0            373450   8.0500   NaN        S  \n",
      "..     ...               ...      ...   ...      ...  \n",
      "886      0            211536  13.0000   NaN        S  \n",
      "887      0            112053  30.0000   B42        S  \n",
      "888      2        W./C. 6607  23.4500   NaN        S  \n",
      "889      0            111369  30.0000  C148        C  \n",
      "890      0            370376   7.7500   NaN        Q  \n",
      "\n",
      "[891 rows x 12 columns]\n"
     ]
    }
   ],
   "source": [
    "file_path = input(\"Enter the file path: \")\n",
    "column_name = input(\"Enter the column name: \")\n",
    "category_order = input(\"Enter the category order : \").split(\",\")\n",
    "\n",
    "data = pd.read_csv(file_path)\n",
    "\n",
    "cat_dtype = pd.api.types.CategoricalDtype(categories=category_order, ordered=True)\n",
    "data[column_name] = data[column_name].astype(cat_dtype)\n",
    "\n",
    "sorted_data = data.sort_values(by=column_name)\n",
    "\n",
    "print(sorted_data)"
   ]
  },
  {
   "cell_type": "markdown",
   "id": "44ac5225-2480-462b-9853-89855b455d75",
   "metadata": {},
   "source": [
    "# Question 10\n",
    "Answer : "
   ]
  },
  {
   "cell_type": "code",
   "execution_count": 41,
   "id": "17dd79c0-109c-413b-baaf-fd2f2e26fa86",
   "metadata": {},
   "outputs": [],
   "source": [
    "import matplotlib.pyplot as plt"
   ]
  },
  {
   "cell_type": "code",
   "execution_count": 45,
   "id": "4066f8ef-e7bc-475a-b4e9-ed4296067d2c",
   "metadata": {},
   "outputs": [],
   "source": [
    "df10 = pd.read_csv(\"https://gist.githubusercontent.com/omarish/5687264/raw/7e5c814ce6ef33e25d5259c1fe79463c190800d9/mpg.csv\")"
   ]
  },
  {
   "cell_type": "code",
   "execution_count": 46,
   "id": "459d1320-f101-4958-927b-d658306b3ba1",
   "metadata": {},
   "outputs": [
    {
     "data": {
      "text/html": [
       "<div>\n",
       "<style scoped>\n",
       "    .dataframe tbody tr th:only-of-type {\n",
       "        vertical-align: middle;\n",
       "    }\n",
       "\n",
       "    .dataframe tbody tr th {\n",
       "        vertical-align: top;\n",
       "    }\n",
       "\n",
       "    .dataframe thead th {\n",
       "        text-align: right;\n",
       "    }\n",
       "</style>\n",
       "<table border=\"1\" class=\"dataframe\">\n",
       "  <thead>\n",
       "    <tr style=\"text-align: right;\">\n",
       "      <th></th>\n",
       "      <th>mpg</th>\n",
       "      <th>cylinders</th>\n",
       "      <th>displacement</th>\n",
       "      <th>horsepower</th>\n",
       "      <th>weight</th>\n",
       "      <th>acceleration</th>\n",
       "      <th>model_year</th>\n",
       "      <th>origin</th>\n",
       "      <th>name</th>\n",
       "    </tr>\n",
       "  </thead>\n",
       "  <tbody>\n",
       "    <tr>\n",
       "      <th>0</th>\n",
       "      <td>18.0</td>\n",
       "      <td>8</td>\n",
       "      <td>307.0</td>\n",
       "      <td>130</td>\n",
       "      <td>3504</td>\n",
       "      <td>12.0</td>\n",
       "      <td>70</td>\n",
       "      <td>1</td>\n",
       "      <td>chevrolet chevelle malibu</td>\n",
       "    </tr>\n",
       "    <tr>\n",
       "      <th>1</th>\n",
       "      <td>15.0</td>\n",
       "      <td>8</td>\n",
       "      <td>350.0</td>\n",
       "      <td>165</td>\n",
       "      <td>3693</td>\n",
       "      <td>11.5</td>\n",
       "      <td>70</td>\n",
       "      <td>1</td>\n",
       "      <td>buick skylark 320</td>\n",
       "    </tr>\n",
       "    <tr>\n",
       "      <th>2</th>\n",
       "      <td>18.0</td>\n",
       "      <td>8</td>\n",
       "      <td>318.0</td>\n",
       "      <td>150</td>\n",
       "      <td>3436</td>\n",
       "      <td>11.0</td>\n",
       "      <td>70</td>\n",
       "      <td>1</td>\n",
       "      <td>plymouth satellite</td>\n",
       "    </tr>\n",
       "    <tr>\n",
       "      <th>3</th>\n",
       "      <td>16.0</td>\n",
       "      <td>8</td>\n",
       "      <td>304.0</td>\n",
       "      <td>150</td>\n",
       "      <td>3433</td>\n",
       "      <td>12.0</td>\n",
       "      <td>70</td>\n",
       "      <td>1</td>\n",
       "      <td>amc rebel sst</td>\n",
       "    </tr>\n",
       "    <tr>\n",
       "      <th>4</th>\n",
       "      <td>17.0</td>\n",
       "      <td>8</td>\n",
       "      <td>302.0</td>\n",
       "      <td>140</td>\n",
       "      <td>3449</td>\n",
       "      <td>10.5</td>\n",
       "      <td>70</td>\n",
       "      <td>1</td>\n",
       "      <td>ford torino</td>\n",
       "    </tr>\n",
       "  </tbody>\n",
       "</table>\n",
       "</div>"
      ],
      "text/plain": [
       "    mpg  cylinders  displacement horsepower  weight  acceleration  model_year  \\\n",
       "0  18.0          8         307.0        130    3504          12.0          70   \n",
       "1  15.0          8         350.0        165    3693          11.5          70   \n",
       "2  18.0          8         318.0        150    3436          11.0          70   \n",
       "3  16.0          8         304.0        150    3433          12.0          70   \n",
       "4  17.0          8         302.0        140    3449          10.5          70   \n",
       "\n",
       "   origin                       name  \n",
       "0       1  chevrolet chevelle malibu  \n",
       "1       1          buick skylark 320  \n",
       "2       1         plymouth satellite  \n",
       "3       1              amc rebel sst  \n",
       "4       1                ford torino  "
      ]
     },
     "execution_count": 46,
     "metadata": {},
     "output_type": "execute_result"
    }
   ],
   "source": [
    "df10.head()"
   ]
  },
  {
   "cell_type": "code",
   "execution_count": 47,
   "id": "5c933149-577c-4678-a800-819c2c1f5bc8",
   "metadata": {},
   "outputs": [
    {
     "name": "stderr",
     "output_type": "stream",
     "text": [
      "/tmp/ipykernel_78/3438740526.py:1: FutureWarning: The default value of numeric_only in DataFrameGroupBy.sum is deprecated. In a future version, numeric_only will default to False. Either specify numeric_only or select only columns which should be valid for the function.\n",
      "  df10 = df10.groupby(['model_year', 'origin']).sum().reset_index()\n"
     ]
    }
   ],
   "source": [
    "df10 = df10.groupby(['model_year', 'origin']).sum().reset_index()"
   ]
  },
  {
   "cell_type": "code",
   "execution_count": 49,
   "id": "71106d52-0a93-40e8-a17a-fbe5ab014905",
   "metadata": {},
   "outputs": [
    {
     "data": {
      "text/html": [
       "<div>\n",
       "<style scoped>\n",
       "    .dataframe tbody tr th:only-of-type {\n",
       "        vertical-align: middle;\n",
       "    }\n",
       "\n",
       "    .dataframe tbody tr th {\n",
       "        vertical-align: top;\n",
       "    }\n",
       "\n",
       "    .dataframe thead th {\n",
       "        text-align: right;\n",
       "    }\n",
       "</style>\n",
       "<table border=\"1\" class=\"dataframe\">\n",
       "  <thead>\n",
       "    <tr style=\"text-align: right;\">\n",
       "      <th></th>\n",
       "      <th>model_year</th>\n",
       "      <th>origin</th>\n",
       "      <th>mpg</th>\n",
       "      <th>cylinders</th>\n",
       "      <th>displacement</th>\n",
       "      <th>weight</th>\n",
       "      <th>acceleration</th>\n",
       "    </tr>\n",
       "  </thead>\n",
       "  <tbody>\n",
       "    <tr>\n",
       "      <th>0</th>\n",
       "      <td>70</td>\n",
       "      <td>1</td>\n",
       "      <td>336.0</td>\n",
       "      <td>168</td>\n",
       "      <td>7412.0</td>\n",
       "      <td>81763</td>\n",
       "      <td>263.5</td>\n",
       "    </tr>\n",
       "    <tr>\n",
       "      <th>1</th>\n",
       "      <td>70</td>\n",
       "      <td>2</td>\n",
       "      <td>126.0</td>\n",
       "      <td>20</td>\n",
       "      <td>539.0</td>\n",
       "      <td>11546</td>\n",
       "      <td>82.5</td>\n",
       "    </tr>\n",
       "    <tr>\n",
       "      <th>2</th>\n",
       "      <td>70</td>\n",
       "      <td>3</td>\n",
       "      <td>51.0</td>\n",
       "      <td>8</td>\n",
       "      <td>210.0</td>\n",
       "      <td>4502</td>\n",
       "      <td>29.5</td>\n",
       "    </tr>\n",
       "    <tr>\n",
       "      <th>3</th>\n",
       "      <td>71</td>\n",
       "      <td>1</td>\n",
       "      <td>362.0</td>\n",
       "      <td>124</td>\n",
       "      <td>5140.0</td>\n",
       "      <td>68032</td>\n",
       "      <td>291.5</td>\n",
       "    </tr>\n",
       "    <tr>\n",
       "      <th>4</th>\n",
       "      <td>71</td>\n",
       "      <td>2</td>\n",
       "      <td>115.0</td>\n",
       "      <td>16</td>\n",
       "      <td>380.0</td>\n",
       "      <td>8096</td>\n",
       "      <td>67.0</td>\n",
       "    </tr>\n",
       "  </tbody>\n",
       "</table>\n",
       "</div>"
      ],
      "text/plain": [
       "   model_year  origin    mpg  cylinders  displacement  weight  acceleration\n",
       "0          70       1  336.0        168        7412.0   81763         263.5\n",
       "1          70       2  126.0         20         539.0   11546          82.5\n",
       "2          70       3   51.0          8         210.0    4502          29.5\n",
       "3          71       1  362.0        124        5140.0   68032         291.5\n",
       "4          71       2  115.0         16         380.0    8096          67.0"
      ]
     },
     "execution_count": 49,
     "metadata": {},
     "output_type": "execute_result"
    }
   ],
   "source": [
    "df10.head()"
   ]
  },
  {
   "cell_type": "code",
   "execution_count": 51,
   "id": "a4a2055f-f152-49b7-938f-223cf4e3f85c",
   "metadata": {},
   "outputs": [],
   "source": [
    "sales_by_origin = df10.pivot(index='model_year', columns='origin', values='mpg')"
   ]
  },
  {
   "cell_type": "code",
   "execution_count": 52,
   "id": "3c8dbfcc-5c33-419b-b266-0f04164961c8",
   "metadata": {},
   "outputs": [
    {
     "data": {
      "text/plain": [
       "Text(0.5, 1.0, 'Sales by Car Origin over Time')"
      ]
     },
     "execution_count": 52,
     "metadata": {},
     "output_type": "execute_result"
    },
    {
     "data": {
      "image/png": "[encoded data removed]",
      "text/plain": [
       "<Figure size 640x480 with 1 Axes>"
      ]
     },
     "metadata": {},
     "output_type": "display_data"
    }
   ],
   "source": [
    "ax = sales_by_origin.plot(kind='bar', stacked=True)\n",
    "ax.set_xlabel('Model Year')\n",
    "ax.set_ylabel('Sales')\n",
    "ax.set_title('Sales by Car Origin over Time')"
   ]
  },
  {
   "cell_type": "markdown",
   "id": "452fbe19-1406-4593-ba62-d660a87d84c3",
   "metadata": {},
   "source": [
    "# Question 11\n",
    "Answer : "
   ]
  },
  {
   "cell_type": "code",
   "execution_count": 55,
   "id": "18271da6-4d70-4a2d-8537-9b10e92c9518",
   "metadata": {},
   "outputs": [
    {
     "name": "stdin",
     "output_type": "stream",
     "text": [
      "Enter the file path :  student_data.csv\n"
     ]
    },
    {
     "name": "stdout",
     "output_type": "stream",
     "text": [
      "  Statistic                                   Value\n",
      "0      Mean                                    83.5\n",
      "1    Median                                    85.0\n",
      "2      Mode  0    85\n",
      "Name: Test Score, dtype: int64\n"
     ]
    }
   ],
   "source": [
    "path = input(\"Enter the file path : \")\n",
    "\n",
    "df11 = pd.read_csv(path)\n",
    "\n",
    "mean_score = df11['Test Score'].mean()\n",
    "median_score = df11['Test Score'].median()\n",
    "mode_score = df11['Test Score'].mode()\n",
    "\n",
    "output_table = pd.DataFrame({'Statistic': ['Mean', 'Median', 'Mode'], \n",
    "                             'Value': [mean_score, median_score, mode_score]})\n",
    "print(output_table)"
   ]
  }
 ],
 "metadata": {
  "kernelspec": {
   "display_name": "Python 3 (ipykernel)",
   "language": "python",
   "name": "python3"
  },
  "language_info": {
   "codemirror_mode": {
    "name": "ipython",
    "version": 3
   },
   "file_extension": ".py",
   "mimetype": "text/x-python",
   "name": "python",
   "nbconvert_exporter": "python",
   "pygments_lexer": "ipython3",
   "version": "3.10.8"
  }
 },
 "nbformat": 4,
 "nbformat_minor": 5
}
