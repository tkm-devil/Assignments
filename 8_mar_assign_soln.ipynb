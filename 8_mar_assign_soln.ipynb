{
 "cells": [
  {
   "cell_type": "markdown",
   "id": "0b7ec594-94a2-44ae-a1ab-244928b325e7",
   "metadata": {},
   "source": [
    "# Question 1\n",
    "Answer : The probability density function (PDF) is a mathematical function that describes the relative likelihood of a continuous random variable taking on a given value. It is used to specify the probability of observing any value within a continuous range of values, rather than specific values. The area under the probability density function between two points on the horizontal axis represents the probability of observing a value within that range."
   ]
  },
  {
   "cell_type": "markdown",
   "id": "d821a763-77c8-4e21-8cd9-c79666a911d9",
   "metadata": {},
   "source": [
    "# Question 2\n",
    "Answer : Types of probability distribution are :-\n",
    "        \n",
    "        1. Normal or Guassian Distribution\n",
    "        2. Bernoulli Distribution\n",
    "        3. Binomial Distribution\n",
    "        4. Poisson Distribution"
   ]
  },
  {
   "cell_type": "markdown",
   "id": "80601806-1d58-4c08-af29-d7feb0c0f79e",
   "metadata": {},
   "source": [
    "# Question 3\n",
    "Answer : "
   ]
  },
  {
   "cell_type": "code",
   "execution_count": 1,
   "id": "5a4cfeb3-8f4e-476e-be25-a5812838eb0a",
   "metadata": {},
   "outputs": [],
   "source": [
    "import math"
   ]
  },
  {
   "cell_type": "code",
   "execution_count": 2,
   "id": "3a849dab-0f28-4814-b5bf-e86855b0101c",
   "metadata": {},
   "outputs": [],
   "source": [
    "def normal_distribution_pdf(x, mean, std_dev):\n",
    "    exponent = -((x - mean) ** 2) / (2 * std_dev ** 2)\n",
    "    coefficient = 1 / (std_dev * math.sqrt(2 * math.pi))\n",
    "    return coefficient * math.exp(exponent)"
   ]
  },
  {
   "cell_type": "code",
   "execution_count": 3,
   "id": "43de69bf-352e-46b3-b3be-62884bc4b2c9",
   "metadata": {},
   "outputs": [],
   "source": [
    "x = 1\n",
    "mean = 0\n",
    "std_dev = 1"
   ]
  },
  {
   "cell_type": "code",
   "execution_count": 4,
   "id": "22a775a3-fcf9-4a3f-bada-56c29626d2e6",
   "metadata": {},
   "outputs": [
    {
     "data": {
      "text/plain": [
       "0.24197072451914337"
      ]
     },
     "execution_count": 4,
     "metadata": {},
     "output_type": "execute_result"
    }
   ],
   "source": [
    "normal_distribution_pdf(x,mean,std_dev)"
   ]
  },
  {
   "cell_type": "markdown",
   "id": "6ed52291-e704-4d5d-9c8a-72994b501205",
   "metadata": {},
   "source": [
    "# Question 4\n",
    "Answer : Properties of Binomial distribution are :-\n",
    "\n",
    "        1. The binomial distribution is defined by two parameters: the number of trials n and the probability of success p.\n",
    "        2. The binomial distribution is for discrete random varaible.\n",
    "        3. The mean of the binomial distribution is np, and the variance is np(1-p).\n",
    "        4. The binomial distribution is related to the Bernoulli distribution, which models a single trial with two possible outcomes (success or failure).\n",
    "        \n",
    "        Examples where Binomial Distribution can be applied :-\n",
    "            1. Tossing a coin n times - let us assume getting head is success, therfore probablity of getting head is denoted by p.\n",
    "            2. Rolling a die n times - let us assume getting an even number is success denoted by p."
   ]
  },
  {
   "cell_type": "markdown",
   "id": "01b9a001-78ba-42e2-aadf-e8a572fdc91d",
   "metadata": {},
   "source": [
    "# Question 5\n",
    "Answer : "
   ]
  },
  {
   "cell_type": "code",
   "execution_count": 5,
   "id": "9725094f-663b-4d18-89a4-82db7d4a13e5",
   "metadata": {},
   "outputs": [],
   "source": [
    "import numpy as np\n",
    "import matplotlib.pyplot as plt"
   ]
  },
  {
   "cell_type": "code",
   "execution_count": 6,
   "id": "731972ed-2588-4519-b1d7-d289e0626fc6",
   "metadata": {},
   "outputs": [],
   "source": [
    "n = 1000\n",
    "p = 0.4"
   ]
  },
  {
   "cell_type": "code",
   "execution_count": 7,
   "id": "c2c9771c-f60e-4ee0-8c8a-d76f53e80d1e",
   "metadata": {},
   "outputs": [],
   "source": [
    "sample_data = np.random.binomial(n,p,size=1000)"
   ]
  },
  {
   "cell_type": "code",
   "execution_count": 8,
   "id": "4786a6ec-45fe-45d0-9d10-c0ff66c4ddd7",
   "metadata": {},
   "outputs": [
    {
     "data": {
      "text/plain": [
       "array([411, 410, 404, 374, 403, 378, 367, 407, 377, 422, 388, 408, 404,\n",
       "       384, 404, 420, 421, 404, 383, 409, 399, 392, 435, 395, 420, 392,\n",
       "       429, 401, 395, 401, 408, 385, 425, 416, 407, 384, 393, 405, 405,\n",
       "       390])"
      ]
     },
     "execution_count": 8,
     "metadata": {},
     "output_type": "execute_result"
    }
   ],
   "source": [
    "sample_data[300:340]"
   ]
  },
  {
   "cell_type": "code",
   "execution_count": 14,
   "id": "6f16c8fe-aafd-425a-b033-b373f293284d",
   "metadata": {},
   "outputs": [
    {
     "data": {
      "image/png": "[encoded data removed]",
      "text/plain": [
       "<Figure size 640x480 with 1 Axes>"
      ]
     },
     "metadata": {},
     "output_type": "display_data"
    }
   ],
   "source": [
    "plt.hist(sample_data, bins=20, density=True, alpha=0.7,histtype='bar', edgecolor='black', linewidth=1.2)\n",
    "plt.xlabel('Number of successes')\n",
    "plt.ylabel('Probability density')\n",
    "plt.title('Binomial distribution with n=1000, p=0.4')\n",
    "plt.show()"
   ]
  },
  {
   "cell_type": "markdown",
   "id": "d0c31733-e63b-43a4-9c75-099d2d8e86ab",
   "metadata": {},
   "source": [
    "# Question 6\n",
    "Answer : "
   ]
  },
  {
   "cell_type": "code",
   "execution_count": 15,
   "id": "7c60a200-363b-43d5-a4eb-e32cb08a8b2d",
   "metadata": {},
   "outputs": [],
   "source": [
    "import math"
   ]
  },
  {
   "cell_type": "code",
   "execution_count": 16,
   "id": "d227d417-aa2f-43c4-9452-6fc89d9534d9",
   "metadata": {},
   "outputs": [],
   "source": [
    "def poisson_cdf(mean, k):\n",
    "    cdf = 0.0\n",
    "    for i in range(k + 1):\n",
    "        cdf += math.exp(-mean) * (mean ** i) / math.factorial(i)\n",
    "    return cdf"
   ]
  },
  {
   "cell_type": "code",
   "execution_count": 17,
   "id": "e02ea96b-48fa-416e-8f2b-53f59da89885",
   "metadata": {},
   "outputs": [],
   "source": [
    "mean = 2.5\n",
    "k = 3"
   ]
  },
  {
   "cell_type": "code",
   "execution_count": 18,
   "id": "f118de6f-e010-4419-b0d7-a0e9acb1b0de",
   "metadata": {},
   "outputs": [],
   "source": [
    "cdf = poisson_cdf(mean, k)"
   ]
  },
  {
   "cell_type": "code",
   "execution_count": 19,
   "id": "6dce681c-2f28-470f-bd94-6bda8b80c648",
   "metadata": {},
   "outputs": [
    {
     "data": {
      "text/plain": [
       "0.7575761331330659"
      ]
     },
     "execution_count": 19,
     "metadata": {},
     "output_type": "execute_result"
    }
   ],
   "source": [
    "cdf"
   ]
  },
  {
   "cell_type": "markdown",
   "id": "979d98f3-c504-4b67-b268-7acd8265d875",
   "metadata": {},
   "source": [
    "# Question 7\n",
    "Answer : \n",
    "\n",
    "        --Binomial Distribution--\n",
    "        1. Models the number of successes in a fixed number of trials.\n",
    "        2. The number of trials must be fixed and known.\n",
    "        3. The trials are independent and identically distributed (iid).\n",
    "        4. The probability of success is constant and known for each trial.\n",
    "        5. The mean and variance are both np, where n is the number of trials and p is the probability of success.\n",
    "        \n",
    "        --Poisson Distribution--\n",
    "        1. Models the number of events in a fixed interval of time or space.\n",
    "        2. The interval size does not need to be fixed, but the expected number of events is known.\n",
    "        3. The events are independent, but not necessarily iid.\n",
    "        4. The probability of an event occurring is constant but may vary over time or space.\n",
    "        5. The mean and variance are both λ, where λ is the expected number of events."
   ]
  },
  {
   "cell_type": "markdown",
   "id": "5dc7465a-af3e-4c72-ad3a-651f48258cad",
   "metadata": {},
   "source": [
    "# Question 8\n",
    "Answer : "
   ]
  },
  {
   "cell_type": "code",
   "execution_count": 20,
   "id": "80997053-263a-489c-bb17-da7db3fa44e7",
   "metadata": {},
   "outputs": [],
   "source": [
    "import numpy as np\n",
    "import matplotlib.pyplot as plt"
   ]
  },
  {
   "cell_type": "code",
   "execution_count": 21,
   "id": "22da0c57-38ec-4b6a-bf97-290e7a4c633b",
   "metadata": {},
   "outputs": [],
   "source": [
    "np.random.seed(101)"
   ]
  },
  {
   "cell_type": "code",
   "execution_count": 22,
   "id": "e5f340a7-72b6-4fc3-b177-732e28fca099",
   "metadata": {},
   "outputs": [],
   "source": [
    "sample = np.random.poisson(5, size=1000)"
   ]
  },
  {
   "cell_type": "code",
   "execution_count": 24,
   "id": "7d756bc5-75e9-47ca-8123-b6603ffafac7",
   "metadata": {},
   "outputs": [
    {
     "data": {
      "text/plain": [
       "array([2, 7, 7, 8, 6, 7, 6, 7, 7, 8, 8, 7, 2, 4, 7, 2, 7, 4, 2, 4])"
      ]
     },
     "execution_count": 24,
     "metadata": {},
     "output_type": "execute_result"
    }
   ],
   "source": [
    "sample[100:120]"
   ]
  },
  {
   "cell_type": "code",
   "execution_count": 25,
   "id": "d8ca016b-e897-4ea9-9ced-3cafb837ada2",
   "metadata": {},
   "outputs": [],
   "source": [
    "sample_mean = np.mean(sample)\n",
    "sample_var = np.var(sample)"
   ]
  },
  {
   "cell_type": "code",
   "execution_count": 26,
   "id": "89538bf8-1267-4e75-b257-a8b0767bf412",
   "metadata": {},
   "outputs": [
    {
     "data": {
      "text/plain": [
       "5.021"
      ]
     },
     "execution_count": 26,
     "metadata": {},
     "output_type": "execute_result"
    }
   ],
   "source": [
    "sample_mean"
   ]
  },
  {
   "cell_type": "code",
   "execution_count": 27,
   "id": "e3f9569b-1306-4651-874b-39e25e2b46f7",
   "metadata": {},
   "outputs": [
    {
     "data": {
      "text/plain": [
       "4.886558999999999"
      ]
     },
     "execution_count": 27,
     "metadata": {},
     "output_type": "execute_result"
    }
   ],
   "source": [
    "sample_var"
   ]
  },
  {
   "cell_type": "markdown",
   "id": "93933be2-e17f-4c8b-a2dc-b4445e5c9a76",
   "metadata": {},
   "source": [
    "# Question 9\n",
    "Answer : \n",
    "\n",
    "        --Binomial Distribution--\n",
    "            - mean = np\n",
    "            - variance = npq\n",
    "            \n",
    "        --Poisson Distribution--\n",
    "            - mean = λ\n",
    "            - variance = λ\n",
    "            where λ is expected number of events to occur every time interval.\n",
    "        "
   ]
  },
  {
   "cell_type": "markdown",
   "id": "2f9ea87b-ea25-46c6-aae1-35f331165be9",
   "metadata": {},
   "source": [
    "# Question 10\n",
    "Answer : In a normal distribution, the least frequent data points are typically located in the tails of the distribution, which are the regions furthest from the mean."
   ]
  }
 ],
 "metadata": {
  "kernelspec": {
   "display_name": "Python 3 (ipykernel)",
   "language": "python",
   "name": "python3"
  },
  "language_info": {
   "codemirror_mode": {
    "name": "ipython",
    "version": 3
   },
   "file_extension": ".py",
   "mimetype": "text/x-python",
   "name": "python",
   "nbconvert_exporter": "python",
   "pygments_lexer": "ipython3",
   "version": "3.10.8"
  }
 },
 "nbformat": 4,
 "nbformat_minor": 5
}
