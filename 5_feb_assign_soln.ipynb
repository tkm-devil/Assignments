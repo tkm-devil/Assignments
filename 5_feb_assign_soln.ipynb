{
 "cells": [
  {
   "cell_type": "markdown",
   "id": "874ad87f-f3eb-4481-9bdd-1d4e1d943dea",
   "metadata": {},
   "source": [
    "# Question 1\n",
    "Answer:\n",
    "Class - These are the user defined datatypes that acts as a blueprint for individual class \n",
    "        methods, attributes.\n",
    "        \n",
    "Objects - These are the instances of a class created with specified data.\n",
    "\n",
    "Example : Lets make a simple Class of students."
   ]
  },
  {
   "cell_type": "code",
   "execution_count": 1,
   "id": "0ef86bb1-248d-4d49-9e1e-9b304016ad8d",
   "metadata": {},
   "outputs": [],
   "source": [
    "class Students : \n",
    "\n",
    "#     Constructor\n",
    "    def __init__(self, Student_name, Student_ID, Student_Class) :\n",
    "        self.Student_name = Student_name\n",
    "        self.Student_ID = Student_ID\n",
    "        self.Student_Class = Student_Class\n",
    "        \n",
    "#     function to display student details\n",
    "    def display(self) :\n",
    "        print(\"Name : \",self.Student_name)\n",
    "        print(\"ID : \",self.Student_ID)\n",
    "        print(\"Class : \",self.Student_Class) "
   ]
  },
  {
   "cell_type": "code",
   "execution_count": 2,
   "id": "3035e969-3379-4dbd-83e2-9797fc70e18f",
   "metadata": {},
   "outputs": [],
   "source": [
    "s = Students(\"Tilak Kishor Mishra\",\"21ME8073\",12)"
   ]
  },
  {
   "cell_type": "code",
   "execution_count": 3,
   "id": "c84b2ef0-1ee0-4018-add8-48930d786c98",
   "metadata": {},
   "outputs": [
    {
     "name": "stdout",
     "output_type": "stream",
     "text": [
      "Name :  Tilak Kishor Mishra\n",
      "ID :  21ME8073\n",
      "Class :  12\n"
     ]
    }
   ],
   "source": [
    "s.display()"
   ]
  },
  {
   "cell_type": "markdown",
   "id": "7804bd0c-2653-4763-bae6-9d9e8c39ed4e",
   "metadata": {},
   "source": [
    "So in the above example Students is the class and 's' is the instance created of that class."
   ]
  },
  {
   "cell_type": "markdown",
   "id": "90887a87-1d30-43ab-bd0d-f8c79bac5b7f",
   "metadata": {
    "tags": []
   },
   "source": [
    "# Question 2\n",
    "Answer : Four Pillars of OOPs are :-\n",
    "         1. Polymorphism\n",
    "         2. Encapsulation\n",
    "         3. Inheritance\n",
    "         4. Abstraction"
   ]
  },
  {
   "cell_type": "markdown",
   "id": "42a75ddf-253a-4c28-ade9-d551963df0cb",
   "metadata": {},
   "source": [
    "# Question 3\n",
    "Answer : The __init__ method lets our class to initialise its attribute. It is similar to the C++ constructors.\n",
    "\n",
    "Example : A simple person class."
   ]
  },
  {
   "cell_type": "code",
   "execution_count": 7,
   "id": "6fc6faeb-7a4e-4777-9783-a33917b44ba5",
   "metadata": {},
   "outputs": [],
   "source": [
    "class Person:\n",
    " \n",
    "    def __init__(self, name):\n",
    "        self.name = name\n",
    " \n",
    "    def hello(self):\n",
    "        print('Hello, my name is', self.name)"
   ]
  },
  {
   "cell_type": "code",
   "execution_count": 8,
   "id": "d522ae4a-5c4b-4395-a1a7-f24f8451caa8",
   "metadata": {},
   "outputs": [],
   "source": [
    "p = Person(\"Tilak\")"
   ]
  },
  {
   "cell_type": "code",
   "execution_count": 9,
   "id": "83d29cf4-8076-42d5-8834-871ff894895a",
   "metadata": {},
   "outputs": [
    {
     "name": "stdout",
     "output_type": "stream",
     "text": [
      "Hello, my name is Tilak\n"
     ]
    }
   ],
   "source": [
    "p.hello()"
   ]
  },
  {
   "cell_type": "markdown",
   "id": "5346cf74-95b4-468b-9057-c4fc4564d993",
   "metadata": {},
   "source": [
    "# Question 4\n",
    "Answer : 'self' is used as a reference of methods or attributes that the are part of some class. Also self is \n",
    "        not a keyword we can use any other word also.\n",
    "Exmaple : Lets take above person class example."
   ]
  },
  {
   "cell_type": "code",
   "execution_count": 10,
   "id": "0828c4bf-0172-413e-9839-87d4832324dd",
   "metadata": {},
   "outputs": [],
   "source": [
    "class Person:\n",
    " \n",
    "    def __init__(tilak, name):\n",
    "        tilak.name = name\n",
    " \n",
    "    def hello(tilak):\n",
    "        print('Hello, my name is', tilak.name)"
   ]
  },
  {
   "cell_type": "code",
   "execution_count": 11,
   "id": "de0ded57-2d6e-45b1-af10-1c55652eeff5",
   "metadata": {},
   "outputs": [],
   "source": [
    "p = Person(\"Tilak\")"
   ]
  },
  {
   "cell_type": "code",
   "execution_count": 12,
   "id": "cb98a6a4-d8ae-4c26-a1ac-982a3ab6545e",
   "metadata": {},
   "outputs": [
    {
     "name": "stdout",
     "output_type": "stream",
     "text": [
      "Hello, my name is Tilak\n"
     ]
    }
   ],
   "source": [
    "p.hello()"
   ]
  },
  {
   "cell_type": "markdown",
   "id": "e8da068a-6d13-4a12-bd96-2f3dd362bb15",
   "metadata": {},
   "source": [
    "# Question 5\n",
    "Answer : When a class inherits all the properties of some other class that is known as Inheritance. It is very \n",
    "important pillar in OOPs programming. "
   ]
  },
  {
   "cell_type": "markdown",
   "id": "724cd613-95f9-4907-812f-3e5125181809",
   "metadata": {},
   "source": [
    "    1. Single Inheritance"
   ]
  },
  {
   "cell_type": "code",
   "execution_count": 14,
   "id": "bd4c30e9-6249-4d72-a2f7-2611e5f47546",
   "metadata": {},
   "outputs": [],
   "source": [
    "# Exmaple : \n",
    "class Parent:\n",
    "    def func1(self):\n",
    "        print(\"This function is in parent class.\")\n",
    "\n",
    "class Child(Parent):\n",
    "    def func2(self):\n",
    "        print(\"This function is in child class.\")"
   ]
  },
  {
   "cell_type": "code",
   "execution_count": 16,
   "id": "f68016ad-7a6a-483e-81cd-679414beb7eb",
   "metadata": {},
   "outputs": [],
   "source": [
    "c = Child()"
   ]
  },
  {
   "cell_type": "code",
   "execution_count": 17,
   "id": "18a5ec6f-b996-4cfa-a96d-08f82e41e38c",
   "metadata": {},
   "outputs": [
    {
     "name": "stdout",
     "output_type": "stream",
     "text": [
      "This function is in child class.\n"
     ]
    }
   ],
   "source": [
    "c.func2()"
   ]
  },
  {
   "cell_type": "code",
   "execution_count": 18,
   "id": "37d0fd1d-a7c3-40a8-b9f0-e732a613ab95",
   "metadata": {},
   "outputs": [
    {
     "name": "stdout",
     "output_type": "stream",
     "text": [
      "This function is in parent class.\n"
     ]
    }
   ],
   "source": [
    "c.func1()"
   ]
  },
  {
   "cell_type": "markdown",
   "id": "e8b6de02-b096-4f3b-b808-03c40f8a9fdb",
   "metadata": {},
   "source": [
    "    2. Multiple Inheritance"
   ]
  },
  {
   "cell_type": "code",
   "execution_count": 20,
   "id": "1b197787-5a61-44a5-8281-239838ae0e33",
   "metadata": {},
   "outputs": [],
   "source": [
    "# Exmaple : \n",
    "class Father:\n",
    "    fathername = \"\"\n",
    "    def father(self):\n",
    "        print(self.fathername)\n",
    "\n",
    "class Mother:\n",
    "    mothername = \"\"\n",
    "    def mother(self):\n",
    "        print(self.mothername)\n",
    "\n",
    "class Child(Mother, Father):\n",
    "    def parents(self):\n",
    "        print(\"Father :\", self.fathername)\n",
    "        print(\"Mother :\", self.mothername)"
   ]
  },
  {
   "cell_type": "code",
   "execution_count": 23,
   "id": "811012cd-2943-4846-85c9-24ee3000d064",
   "metadata": {},
   "outputs": [],
   "source": [
    "c = Child()"
   ]
  },
  {
   "cell_type": "code",
   "execution_count": 24,
   "id": "fb342b05-1fd9-467c-9e5c-bf5354ac0e4a",
   "metadata": {},
   "outputs": [],
   "source": [
    "c.fathername = \"Kluas\"\n",
    "c.mothername = \"Hayley\""
   ]
  },
  {
   "cell_type": "code",
   "execution_count": 25,
   "id": "3ab37bda-566f-4602-a2b2-b22fe89a62c7",
   "metadata": {},
   "outputs": [
    {
     "name": "stdout",
     "output_type": "stream",
     "text": [
      "Kluas\n"
     ]
    }
   ],
   "source": [
    "c.father()"
   ]
  },
  {
   "cell_type": "code",
   "execution_count": 26,
   "id": "0f54bb4d-8629-4660-97e4-cafb4816b15a",
   "metadata": {},
   "outputs": [
    {
     "name": "stdout",
     "output_type": "stream",
     "text": [
      "Hayley\n"
     ]
    }
   ],
   "source": [
    "c.mother()"
   ]
  },
  {
   "cell_type": "code",
   "execution_count": 27,
   "id": "9a4abca0-d814-4110-beb3-caae185082da",
   "metadata": {},
   "outputs": [
    {
     "name": "stdout",
     "output_type": "stream",
     "text": [
      "Father : Kluas\n",
      "Mother : Hayley\n"
     ]
    }
   ],
   "source": [
    "c.parents()"
   ]
  },
  {
   "cell_type": "markdown",
   "id": "b49b9b61-a44c-4d62-a35c-3cf7711ab997",
   "metadata": {},
   "source": [
    "    3. Multilevel Inheritance"
   ]
  },
  {
   "cell_type": "code",
   "execution_count": 28,
   "id": "c12c6d7c-0e84-45b5-b599-b44571b01c95",
   "metadata": {},
   "outputs": [],
   "source": [
    "# Example\n",
    "class Class1():\n",
    "    def Meth1(self):\n",
    "        print(\"This is a method of class 1\")\n",
    "        \n",
    "class Class2(Class1):\n",
    "    def Meth2(self):\n",
    "        print(\"This is a method of class 2\")\n",
    "        \n",
    "class Class3(Class2):\n",
    "    def Meth3(self):\n",
    "        print(\"This is a method of class 3\")"
   ]
  },
  {
   "cell_type": "code",
   "execution_count": 29,
   "id": "4efbf38d-8988-42cb-bb35-b6c274632390",
   "metadata": {},
   "outputs": [],
   "source": [
    "c = Class3()"
   ]
  },
  {
   "cell_type": "code",
   "execution_count": 30,
   "id": "4dd17dfa-83ad-422b-83ba-a0e8163a7dd1",
   "metadata": {},
   "outputs": [
    {
     "name": "stdout",
     "output_type": "stream",
     "text": [
      "This is a method of class 3\n"
     ]
    }
   ],
   "source": [
    "c.Meth3()"
   ]
  },
  {
   "cell_type": "code",
   "execution_count": 31,
   "id": "3c63910f-8e3e-4fc5-975d-5052371573f5",
   "metadata": {},
   "outputs": [
    {
     "name": "stdout",
     "output_type": "stream",
     "text": [
      "This is a method of class 2\n"
     ]
    }
   ],
   "source": [
    "c.Meth2()"
   ]
  },
  {
   "cell_type": "code",
   "execution_count": 32,
   "id": "8f9e5d30-caf1-4de8-9c12-a403458626ac",
   "metadata": {},
   "outputs": [
    {
     "name": "stdout",
     "output_type": "stream",
     "text": [
      "This is a method of class 1\n"
     ]
    }
   ],
   "source": [
    "c.Meth1()"
   ]
  },
  {
   "cell_type": "markdown",
   "id": "4aad75c3-c08e-4481-b66c-475e214122b7",
   "metadata": {},
   "source": [
    "    4. Hierarchical Inheritance"
   ]
  },
  {
   "cell_type": "code",
   "execution_count": 33,
   "id": "698852d9-61c2-4e09-9627-40b70ef4cbcf",
   "metadata": {},
   "outputs": [],
   "source": [
    "# Exmaple : \n",
    "class Parent:\n",
    "    def func1(self):\n",
    "        print(\"This function is in parent class.\")\n",
    "\n",
    "class Child1(Parent):\n",
    "    def func2(self):\n",
    "        print(\"This function is in child 1.\")\n",
    "\n",
    "class Child2(Parent):\n",
    "    def func3(self):\n",
    "        print(\"This function is in child 2.\")"
   ]
  },
  {
   "cell_type": "code",
   "execution_count": 35,
   "id": "7e6212d6-93e7-4599-8823-a893a5894a9f",
   "metadata": {},
   "outputs": [],
   "source": [
    "a = Child1()\n",
    "b = Child2()"
   ]
  },
  {
   "cell_type": "code",
   "execution_count": 36,
   "id": "e1b5c5e2-ec94-425f-8e42-32df4ac6051b",
   "metadata": {},
   "outputs": [
    {
     "name": "stdout",
     "output_type": "stream",
     "text": [
      "This function is in child 1.\n"
     ]
    }
   ],
   "source": [
    "a.func2()"
   ]
  },
  {
   "cell_type": "code",
   "execution_count": 37,
   "id": "96af3848-7b2c-4ccd-8545-fdf9950b5586",
   "metadata": {},
   "outputs": [
    {
     "name": "stdout",
     "output_type": "stream",
     "text": [
      "This function is in parent class.\n"
     ]
    }
   ],
   "source": [
    "a.func1()"
   ]
  },
  {
   "cell_type": "code",
   "execution_count": 38,
   "id": "4ff0f588-7ebe-46ed-8c6e-f6d89a77e215",
   "metadata": {},
   "outputs": [
    {
     "name": "stdout",
     "output_type": "stream",
     "text": [
      "This function is in child 2.\n"
     ]
    }
   ],
   "source": [
    "b.func3()"
   ]
  },
  {
   "cell_type": "code",
   "execution_count": 39,
   "id": "fd9bfd20-3316-4233-b3ad-a89013c8f06a",
   "metadata": {},
   "outputs": [
    {
     "name": "stdout",
     "output_type": "stream",
     "text": [
      "This function is in parent class.\n"
     ]
    }
   ],
   "source": [
    "b.func1()"
   ]
  },
  {
   "cell_type": "markdown",
   "id": "bb039911-7ca9-4806-9eee-fbb92b9477ad",
   "metadata": {},
   "source": [
    "    5. Hybrid Inheritance - contains more than one type of inheritance."
   ]
  },
  {
   "cell_type": "code",
   "execution_count": 40,
   "id": "0c980050-0ff8-4fee-8afb-43c883e164a1",
   "metadata": {},
   "outputs": [],
   "source": [
    "# Example\n",
    "class School:\n",
    "    def func1(self):\n",
    "        print(\"This function is in school.\")\n",
    "\n",
    "class Student1(School):\n",
    "    def func2(self):\n",
    "        print(\"This function is in student 1. \")\n",
    "\n",
    "class Student2(School):\n",
    "    def func3(self):\n",
    "        print(\"This function is in student 2.\")\n",
    "\n",
    "class Student3(Student1, School):\n",
    "    def func4(self):\n",
    "        print(\"This function is in student 3.\")"
   ]
  },
  {
   "cell_type": "code",
   "execution_count": 42,
   "id": "cb79d32f-b483-4925-a669-74e104027c5c",
   "metadata": {},
   "outputs": [],
   "source": [
    "a,b,c = Student1(),Student2(),Student3()"
   ]
  },
  {
   "cell_type": "code",
   "execution_count": 43,
   "id": "2380d902-7750-475c-8eb0-607aa2122be4",
   "metadata": {},
   "outputs": [
    {
     "name": "stdout",
     "output_type": "stream",
     "text": [
      "This function is in school.\n"
     ]
    }
   ],
   "source": [
    "a.func1()"
   ]
  },
  {
   "cell_type": "code",
   "execution_count": 44,
   "id": "5f580601-fa06-45bd-b820-819074c3f708",
   "metadata": {},
   "outputs": [
    {
     "name": "stdout",
     "output_type": "stream",
     "text": [
      "This function is in student 1. \n"
     ]
    }
   ],
   "source": [
    "a.func2()"
   ]
  },
  {
   "cell_type": "code",
   "execution_count": 45,
   "id": "c6b61c18-b16f-4158-9dc6-dfaf357679d4",
   "metadata": {},
   "outputs": [
    {
     "name": "stdout",
     "output_type": "stream",
     "text": [
      "This function is in school.\n"
     ]
    }
   ],
   "source": [
    "b.func1()"
   ]
  },
  {
   "cell_type": "code",
   "execution_count": 46,
   "id": "82b653a2-97a7-48a5-81ac-b94abacc8f8c",
   "metadata": {},
   "outputs": [
    {
     "name": "stdout",
     "output_type": "stream",
     "text": [
      "This function is in student 2.\n"
     ]
    }
   ],
   "source": [
    "b.func3()"
   ]
  },
  {
   "cell_type": "code",
   "execution_count": 47,
   "id": "6b7e54ba-3bb9-4fb6-b8b1-41f428e6dbac",
   "metadata": {},
   "outputs": [
    {
     "name": "stdout",
     "output_type": "stream",
     "text": [
      "This function is in school.\n"
     ]
    }
   ],
   "source": [
    "c.func1()"
   ]
  },
  {
   "cell_type": "code",
   "execution_count": 48,
   "id": "90f3beeb-0673-44dc-a225-1451151f447d",
   "metadata": {},
   "outputs": [
    {
     "name": "stdout",
     "output_type": "stream",
     "text": [
      "This function is in student 1. \n"
     ]
    }
   ],
   "source": [
    "c.func2()"
   ]
  },
  {
   "cell_type": "code",
   "execution_count": 49,
   "id": "6e683a1f-f089-42e9-8193-4991799e14ae",
   "metadata": {},
   "outputs": [
    {
     "name": "stdout",
     "output_type": "stream",
     "text": [
      "This function is in student 3.\n"
     ]
    }
   ],
   "source": [
    "c.func4()"
   ]
  },
  {
   "cell_type": "code",
   "execution_count": null,
   "id": "1db6a5ea-2a1a-4844-b6b8-4df4673853ca",
   "metadata": {},
   "outputs": [],
   "source": []
  }
 ],
 "metadata": {
  "kernelspec": {
   "display_name": "Python 3 (ipykernel)",
   "language": "python",
   "name": "python3"
  },
  "language_info": {
   "codemirror_mode": {
    "name": "ipython",
    "version": 3
   },
   "file_extension": ".py",
   "mimetype": "text/x-python",
   "name": "python",
   "nbconvert_exporter": "python",
   "pygments_lexer": "ipython3",
   "version": "3.10.8"
  }
 },
 "nbformat": 4,
 "nbformat_minor": 5
}
