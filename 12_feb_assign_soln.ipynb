{
 "cells": [
  {
   "cell_type": "markdown",
   "id": "0aa68cb0-3eea-4b78-b79e-da8b059b5ebd",
   "metadata": {},
   "source": [
    "# Question 1\n",
    "Answer : Exceptions occurs during the execution of program that disrupts its normal flow.\n",
    "            \n",
    "            1. Syntax Errors - It occurs when the proper syntax of program is not followed.\n",
    "                example - some colon or indentation is missing.\n",
    "            2. Exceptions - It is also known as logical errors which occurs after passing the syntax test.\n",
    "                example - division by zero error."
   ]
  },
  {
   "cell_type": "markdown",
   "id": "3c4d0494-7aa0-49c9-8e56-08d32b163eae",
   "metadata": {},
   "source": [
    "# Question 2\n",
    "Answer : When an exception is not properly handled then the runtime system will stop the program and an exception error message will be printed in console. Example :- A simple division by zero error."
   ]
  },
  {
   "cell_type": "code",
   "execution_count": 1,
   "id": "41d8a89a-1583-4bea-8214-38eeacada61e",
   "metadata": {},
   "outputs": [],
   "source": [
    "a = 2 \n",
    "b = 0"
   ]
  },
  {
   "cell_type": "code",
   "execution_count": 2,
   "id": "00db8604-31f0-4c41-ae8a-e3433d0896ee",
   "metadata": {},
   "outputs": [
    {
     "ename": "ZeroDivisionError",
     "evalue": "division by zero",
     "output_type": "error",
     "traceback": [
      "\u001b[0;31m---------------------------------------------------------------------------\u001b[0m",
      "\u001b[0;31mZeroDivisionError\u001b[0m                         Traceback (most recent call last)",
      "Cell \u001b[0;32mIn[2], line 1\u001b[0m\n\u001b[0;32m----> 1\u001b[0m \u001b[38;5;28mprint\u001b[39m(\u001b[43ma\u001b[49m\u001b[38;5;241;43m/\u001b[39;49m\u001b[43mb\u001b[49m)\n\u001b[1;32m      2\u001b[0m \u001b[38;5;28mprint\u001b[39m(a\u001b[38;5;241m+\u001b[39mb)\n\u001b[1;32m      3\u001b[0m \u001b[38;5;28mprint\u001b[39m(a\u001b[38;5;241m*\u001b[39mb)\n",
      "\u001b[0;31mZeroDivisionError\u001b[0m: division by zero"
     ]
    }
   ],
   "source": [
    "print(a/b)\n",
    "print(a+b)\n",
    "print(a*b)\n",
    "print(a-b)"
   ]
  },
  {
   "cell_type": "markdown",
   "id": "e25a2f66-7a90-4bf7-937c-4ec7f5bde8a6",
   "metadata": {},
   "source": [
    "As we can see that due to the error our program is completely stopped."
   ]
  },
  {
   "cell_type": "markdown",
   "id": "b51fb6f4-a21f-48ca-b642-fdc37a75ab11",
   "metadata": {},
   "source": [
    "# Question 3\n",
    "Answer : 'try' and 'except' statements are used to catch and handle exceptions in Python.\n",
    "            \n",
    "            Example :-"
   ]
  },
  {
   "cell_type": "code",
   "execution_count": 3,
   "id": "2937b4ea-f86a-4cba-a46c-5a472e9786ad",
   "metadata": {},
   "outputs": [],
   "source": [
    "a = 2\n",
    "b = 0"
   ]
  },
  {
   "cell_type": "code",
   "execution_count": 4,
   "id": "8b2f8a2c-0172-497f-a620-1fd427be136c",
   "metadata": {},
   "outputs": [
    {
     "name": "stdout",
     "output_type": "stream",
     "text": [
      "Cannot divide by zero\n",
      "2\n",
      "0\n",
      "2\n"
     ]
    }
   ],
   "source": [
    "try : \n",
    "    print(a/b)\n",
    "except Exception as e :\n",
    "    print(\"Cannot divide by zero\")\n",
    "print(a+b)\n",
    "print(a*b)\n",
    "print(a-b)"
   ]
  },
  {
   "cell_type": "markdown",
   "id": "0569915a-3791-40dd-998c-01768e52f931",
   "metadata": {},
   "source": [
    "With the help of exception handling technique our program is not stopped as in previous case."
   ]
  },
  {
   "cell_type": "markdown",
   "id": "4e40afa4-3917-4e84-8376-3c56880ccc1c",
   "metadata": {},
   "source": [
    "# Question 4\n",
    "Answer : (a) try and else"
   ]
  },
  {
   "cell_type": "code",
   "execution_count": 5,
   "id": "cfb92f6a-390b-4dc0-826a-a556c0710637",
   "metadata": {},
   "outputs": [
    {
     "name": "stdout",
     "output_type": "stream",
     "text": [
      "This will execute if try block catches an error\n"
     ]
    }
   ],
   "source": [
    "try : \n",
    "    4/0\n",
    "except Exception as e: \n",
    "    print(\"This will execute if try block catches an error\")\n",
    "else : \n",
    "    print(\"This will execute if try block catches no error\")"
   ]
  },
  {
   "cell_type": "code",
   "execution_count": 6,
   "id": "1fc17637-1993-481b-9a12-498c497d36d1",
   "metadata": {},
   "outputs": [
    {
     "name": "stdout",
     "output_type": "stream",
     "text": [
      "This will execute if try block catches no error\n"
     ]
    }
   ],
   "source": [
    "try : \n",
    "    4/2\n",
    "except Exception as e: \n",
    "    print(\"This will execute if try block catches an error\")\n",
    "else : \n",
    "    print(\"This will execute if try block catches no error\")"
   ]
  },
  {
   "cell_type": "markdown",
   "id": "9d4ae7d4-f17e-44f9-a3b5-baa3cd659635",
   "metadata": {},
   "source": [
    "(b)Finally - this will run no matter if error has been caught or not."
   ]
  },
  {
   "cell_type": "code",
   "execution_count": 7,
   "id": "4e3d3c33-24c5-485f-836f-215320aecaa1",
   "metadata": {},
   "outputs": [
    {
     "name": "stdout",
     "output_type": "stream",
     "text": [
      "This will execute if try block catches an error\n",
      "This will run no matter if error is there or not\n"
     ]
    }
   ],
   "source": [
    "try : \n",
    "    4/0\n",
    "except Exception as e: \n",
    "    print(\"This will execute if try block catches an error\")\n",
    "finally : \n",
    "    print(\"This will run no matter if error is there or not\")   "
   ]
  },
  {
   "cell_type": "code",
   "execution_count": 8,
   "id": "01cc76b3-9259-470d-95be-b4a7ebbc3bd9",
   "metadata": {},
   "outputs": [
    {
     "name": "stdout",
     "output_type": "stream",
     "text": [
      "This will run no matter if error is there or not\n"
     ]
    }
   ],
   "source": [
    "try : \n",
    "    4/2\n",
    "except Exception as e: \n",
    "    print(\"This will execute if try block catches an error\")\n",
    "finally : \n",
    "    print(\"This will run no matter if error is there or not\")   "
   ]
  },
  {
   "cell_type": "markdown",
   "id": "50aa068d-b4db-4e58-a7af-d0b7c5bffcf1",
   "metadata": {},
   "source": [
    "(c)Raise - With the help of this statement we cn choose to raise our custom exception is a condition is satisfied"
   ]
  },
  {
   "cell_type": "code",
   "execution_count": 9,
   "id": "40ea7689-717a-47fa-b06d-f1ceb8abe26b",
   "metadata": {},
   "outputs": [
    {
     "name": "stdin",
     "output_type": "stream",
     "text": [
      "Enter a number -4\n"
     ]
    },
    {
     "ename": "Exception",
     "evalue": "Sorry ,no numbers below zero is allowed",
     "output_type": "error",
     "traceback": [
      "\u001b[0;31m---------------------------------------------------------------------------\u001b[0m",
      "\u001b[0;31mException\u001b[0m                                 Traceback (most recent call last)",
      "Cell \u001b[0;32mIn[9], line 3\u001b[0m\n\u001b[1;32m      1\u001b[0m x \u001b[38;5;241m=\u001b[39m \u001b[38;5;28mint\u001b[39m(\u001b[38;5;28minput\u001b[39m(\u001b[38;5;124m\"\u001b[39m\u001b[38;5;124mEnter a number\u001b[39m\u001b[38;5;124m\"\u001b[39m))\n\u001b[1;32m      2\u001b[0m \u001b[38;5;28;01mif\u001b[39;00m x \u001b[38;5;241m<\u001b[39m \u001b[38;5;241m0\u001b[39m:\n\u001b[0;32m----> 3\u001b[0m     \u001b[38;5;28;01mraise\u001b[39;00m \u001b[38;5;167;01mException\u001b[39;00m(\u001b[38;5;124m\"\u001b[39m\u001b[38;5;124mSorry ,no numbers below zero is allowed\u001b[39m\u001b[38;5;124m\"\u001b[39m)\n",
      "\u001b[0;31mException\u001b[0m: Sorry ,no numbers below zero is allowed"
     ]
    }
   ],
   "source": [
    "x = int(input(\"Enter a number\"))\n",
    "if x < 0:\n",
    "    raise Exception(\"Sorry ,no numbers below zero is allowed\")"
   ]
  },
  {
   "cell_type": "markdown",
   "id": "a75a988a-f3d9-4ab2-9785-1ccf0e76d75a",
   "metadata": {},
   "source": [
    "# Question 5\n",
    "Answer : Custom Exception in Python are the error that we as a developer set when a particular condition is satisfied. We need custom exceptions because as a developer we don't want users to see all the behind implementation or we only want to put a particular input to our program therefore if user breaks any criteria set by us then error must be raised that why we use custom exceptions."
   ]
  },
  {
   "cell_type": "code",
   "execution_count": 10,
   "id": "ff7be73d-4351-4240-830c-5cfa1304b008",
   "metadata": {},
   "outputs": [
    {
     "name": "stdin",
     "output_type": "stream",
     "text": [
      "Enter your Class 0\n"
     ]
    },
    {
     "ename": "Exception",
     "evalue": "Invalid!! Class below 1 doesn't exist.",
     "output_type": "error",
     "traceback": [
      "\u001b[0;31m---------------------------------------------------------------------------\u001b[0m",
      "\u001b[0;31mException\u001b[0m                                 Traceback (most recent call last)",
      "Cell \u001b[0;32mIn[10], line 4\u001b[0m\n\u001b[1;32m      2\u001b[0m x \u001b[38;5;241m=\u001b[39m \u001b[38;5;28mint\u001b[39m(\u001b[38;5;28minput\u001b[39m(\u001b[38;5;124m\"\u001b[39m\u001b[38;5;124mEnter your Class\u001b[39m\u001b[38;5;124m\"\u001b[39m))\n\u001b[1;32m      3\u001b[0m \u001b[38;5;28;01mif\u001b[39;00m x \u001b[38;5;241m<\u001b[39m \u001b[38;5;241m1\u001b[39m :\n\u001b[0;32m----> 4\u001b[0m     \u001b[38;5;28;01mraise\u001b[39;00m \u001b[38;5;167;01mException\u001b[39;00m(\u001b[38;5;124m\"\u001b[39m\u001b[38;5;124mInvalid!! Class below 1 doesn\u001b[39m\u001b[38;5;124m'\u001b[39m\u001b[38;5;124mt exist.\u001b[39m\u001b[38;5;124m\"\u001b[39m)\n\u001b[1;32m      5\u001b[0m \u001b[38;5;28;01melif\u001b[39;00m x \u001b[38;5;241m>\u001b[39m \u001b[38;5;241m12\u001b[39m : \n\u001b[1;32m      6\u001b[0m     \u001b[38;5;28;01mraise\u001b[39;00m \u001b[38;5;167;01mException\u001b[39;00m(\u001b[38;5;124m\"\u001b[39m\u001b[38;5;124mInvalid!! Class above 12 doesn\u001b[39m\u001b[38;5;124m'\u001b[39m\u001b[38;5;124mt exist.\u001b[39m\u001b[38;5;124m\"\u001b[39m)\n",
      "\u001b[0;31mException\u001b[0m: Invalid!! Class below 1 doesn't exist."
     ]
    }
   ],
   "source": [
    "# Example:-\n",
    "x = int(input(\"Enter your Class\"))\n",
    "if x < 1 :\n",
    "    raise Exception(\"Invalid!! Class below 1 doesn't exist.\")\n",
    "elif x > 12 : \n",
    "    raise Exception(\"Invalid!! Class above 12 doesn't exist.\")\n",
    "else : \n",
    "    print(\"Valid class\")"
   ]
  },
  {
   "cell_type": "code",
   "execution_count": 11,
   "id": "067c4ee4-491b-41b5-a31a-46c140775d38",
   "metadata": {},
   "outputs": [
    {
     "name": "stdin",
     "output_type": "stream",
     "text": [
      "Enter your Class 14\n"
     ]
    },
    {
     "ename": "Exception",
     "evalue": "Invalid!! Class above 12 doesn't exist.",
     "output_type": "error",
     "traceback": [
      "\u001b[0;31m---------------------------------------------------------------------------\u001b[0m",
      "\u001b[0;31mException\u001b[0m                                 Traceback (most recent call last)",
      "Cell \u001b[0;32mIn[11], line 5\u001b[0m\n\u001b[1;32m      3\u001b[0m     \u001b[38;5;28;01mraise\u001b[39;00m \u001b[38;5;167;01mException\u001b[39;00m(\u001b[38;5;124m\"\u001b[39m\u001b[38;5;124mInvalid!! Class below 1 doesn\u001b[39m\u001b[38;5;124m'\u001b[39m\u001b[38;5;124mt exist.\u001b[39m\u001b[38;5;124m\"\u001b[39m)\n\u001b[1;32m      4\u001b[0m \u001b[38;5;28;01melif\u001b[39;00m x \u001b[38;5;241m>\u001b[39m \u001b[38;5;241m12\u001b[39m : \n\u001b[0;32m----> 5\u001b[0m     \u001b[38;5;28;01mraise\u001b[39;00m \u001b[38;5;167;01mException\u001b[39;00m(\u001b[38;5;124m\"\u001b[39m\u001b[38;5;124mInvalid!! Class above 12 doesn\u001b[39m\u001b[38;5;124m'\u001b[39m\u001b[38;5;124mt exist.\u001b[39m\u001b[38;5;124m\"\u001b[39m)\n\u001b[1;32m      6\u001b[0m \u001b[38;5;28;01melse\u001b[39;00m : \n\u001b[1;32m      7\u001b[0m     \u001b[38;5;28mprint\u001b[39m(\u001b[38;5;124m\"\u001b[39m\u001b[38;5;124mValid class\u001b[39m\u001b[38;5;124m\"\u001b[39m)\n",
      "\u001b[0;31mException\u001b[0m: Invalid!! Class above 12 doesn't exist."
     ]
    }
   ],
   "source": [
    "x = int(input(\"Enter your Class\"))\n",
    "if x < 1 :\n",
    "    raise Exception(\"Invalid!! Class below 1 doesn't exist.\")\n",
    "elif x > 12 : \n",
    "    raise Exception(\"Invalid!! Class above 12 doesn't exist.\")\n",
    "else : \n",
    "    print(\"Valid class\")"
   ]
  },
  {
   "cell_type": "code",
   "execution_count": 12,
   "id": "7e2b5944-0dbb-489c-a3a9-58effd61000e",
   "metadata": {},
   "outputs": [
    {
     "name": "stdin",
     "output_type": "stream",
     "text": [
      "Enter your Class 6\n"
     ]
    },
    {
     "name": "stdout",
     "output_type": "stream",
     "text": [
      "Valid class\n"
     ]
    }
   ],
   "source": [
    "x = int(input(\"Enter your Class\"))\n",
    "if x < 1 :\n",
    "    raise Exception(\"Invalid!! Class below 1 doesn't exist.\")\n",
    "elif x > 12 : \n",
    "    raise Exception(\"Invalid!! Class above 12 doesn't exist.\")\n",
    "else : \n",
    "    print(\"Valid class\")"
   ]
  },
  {
   "cell_type": "markdown",
   "id": "f90bc7fc-442c-476d-8a35-f2eb6801d028",
   "metadata": {},
   "source": [
    "# Question 6\n",
    "Answer : "
   ]
  },
  {
   "cell_type": "code",
   "execution_count": 20,
   "id": "faf5a753-9d9e-499b-86c6-26e18c85adae",
   "metadata": {},
   "outputs": [],
   "source": [
    "class AgeException(Exception) : \n",
    "    \"Will be raised if age is less than 18\"\n",
    "    pass"
   ]
  },
  {
   "cell_type": "code",
   "execution_count": 21,
   "id": "1fb0f803-f85e-4532-9a00-975c06bc9679",
   "metadata": {},
   "outputs": [
    {
     "name": "stdin",
     "output_type": "stream",
     "text": [
      "Enter your age :  15\n"
     ]
    },
    {
     "name": "stdout",
     "output_type": "stream",
     "text": [
      "Exception occurred: Invalid Age\n"
     ]
    }
   ],
   "source": [
    "base_age = 18\n",
    "age = int(input(\"Enter your age : \"))\n",
    "\n",
    "try:\n",
    "    if age < base_age:\n",
    "        raise AgeException\n",
    "    else:\n",
    "        print(\"Eligible to Vote\")\n",
    "        \n",
    "except AgeException:\n",
    "    print(\"Exception occurred: Invalid Age\")"
   ]
  },
  {
   "cell_type": "code",
   "execution_count": 22,
   "id": "a51a024b-6df8-4674-8a79-34d488ef17bd",
   "metadata": {},
   "outputs": [
    {
     "name": "stdin",
     "output_type": "stream",
     "text": [
      "Enter your age :  20\n"
     ]
    },
    {
     "name": "stdout",
     "output_type": "stream",
     "text": [
      "Eligible to Vote\n"
     ]
    }
   ],
   "source": [
    "base_age = 18\n",
    "age = int(input(\"Enter your age : \"))\n",
    "\n",
    "try:\n",
    "    if age < base_age:\n",
    "        raise AgeException\n",
    "    else:\n",
    "        print(\"Eligible to Vote\")\n",
    "        \n",
    "except AgeException:\n",
    "    print(\"Exception occurred: Invalid Age\")"
   ]
  }
 ],
 "metadata": {
  "kernelspec": {
   "display_name": "Python 3 (ipykernel)",
   "language": "python",
   "name": "python3"
  },
  "language_info": {
   "codemirror_mode": {
    "name": "ipython",
    "version": 3
   },
   "file_extension": ".py",
   "mimetype": "text/x-python",
   "name": "python",
   "nbconvert_exporter": "python",
   "pygments_lexer": "ipython3",
   "version": "3.10.8"
  }
 },
 "nbformat": 4,
 "nbformat_minor": 5
}
