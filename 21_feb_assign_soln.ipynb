{
 "cells": [
  {
   "cell_type": "markdown",
   "id": "6f3de728-2f3a-4afa-ad7b-e3bde7edf783",
   "metadata": {},
   "source": [
    "# Question 1\n",
    "Answer : Web scraping is the process of extracting information from websites programmatically, using software tools or scripts to scrape data from web pages. It involves sending automated requests to web pages, and then parsing and extracting the data from the HTML code of those pages.\n",
    "\n",
    "        Web scraping is used for various purposes, such as market research, data mining, content aggregation, and monitoring.\n",
    "        \n",
    "        Three areas where web scarpping is used :-\n",
    "        1. E-commerce\n",
    "        2. Academic Research\n",
    "        3. Real Estate"
   ]
  },
  {
   "cell_type": "markdown",
   "id": "047244bf-323c-455c-8570-f5c84e8aa1d6",
   "metadata": {},
   "source": [
    "# Question 2\n",
    "Answer : The different methods used for Web Scraping :-\n",
    "        \n",
    "            1. HTML Parsing\n",
    "            2. Using APIs\n",
    "            3. Headless Browsers\n",
    "            4. Web Scraping Services\n",
    "            5. Machine Learning"
   ]
  },
  {
   "cell_type": "markdown",
   "id": "1672b735-c782-4527-a1e9-b124a8179a8a",
   "metadata": {},
   "source": [
    "# Question 3\n",
    "Answer : Beautiful Soup is a Python library that is used for web scraping purposes. It is used to extract data from HTML and XML files and is commonly used in conjunction with other web scraping tools and libraries. It allows developers to parse HTML and XML files in a way that is easy to understand and manipulate."
   ]
  },
  {
   "cell_type": "markdown",
   "id": "5aa3e071-1f1c-4616-b471-04f1c3886283",
   "metadata": {},
   "source": [
    "# Question 4\n",
    "Answer : Flask is used in this Web scrapping project becuase it is easy to use a with only some simple functions it creates a web application framework. \n",
    "            \n",
    "            Some reason why flask is used :-\n",
    "             1. Easy to learn and use\n",
    "             2. Flexible and customizable\n",
    "             3. Lightweight and fast\n",
    "             4. Integrates well with other Python libraries\n",
    "             5. Good for prototyping"
   ]
  },
  {
   "cell_type": "markdown",
   "id": "cc7da210-d354-427e-8be6-6ad37721992a",
   "metadata": {},
   "source": [
    "# Question 5\n",
    "Answer : In this project Elastic Beanstalk and CodePipeline AWS services are used.\n",
    "\n",
    "        Elastic Beanstalk - It is an AWS service that provides a platform for deploying and scaling web applications, including web scraping applications. It allows developers to deploy and manage applications without having to worry about the underlying infrastructure, such as the operating system, web server, or database.\n",
    "        \n",
    "        CodePipeline - It is a fully managed continuous integration and continuous delivery service that can be used to automate the deployment of web scraping applications and other software projects. It provides a workflow for building, testing, and deploying code changes."
   ]
  }
 ],
 "metadata": {
  "kernelspec": {
   "display_name": "Python 3 (ipykernel)",
   "language": "python",
   "name": "python3"
  },
  "language_info": {
   "codemirror_mode": {
    "name": "ipython",
    "version": 3
   },
   "file_extension": ".py",
   "mimetype": "text/x-python",
   "name": "python",
   "nbconvert_exporter": "python",
   "pygments_lexer": "ipython3",
   "version": "3.10.8"
  }
 },
 "nbformat": 4,
 "nbformat_minor": 5
}
