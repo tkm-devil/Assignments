{
 "cells": [
  {
   "cell_type": "code",
   "execution_count": null,
   "id": "39989b79-64b6-44af-a54d-215412650884",
   "metadata": {},
   "outputs": [
    {
     "name": "stdout",
     "output_type": "stream",
     "text": [
      "1\n",
      "2\n",
      "3\n",
      "4\n",
      "5\n",
      "6\n",
      "7\n",
      "8\n",
      "9\n",
      "10\n"
     ]
    }
   ],
   "source": [
    "# Question 1\n",
    "# Answer : For loop is used when we know how many times the loop is going to run before running the program.\n",
    "# Example :\n",
    "for i in range(1,11):\n",
    "    print(i)"
   ]
  },
  {
   "cell_type": "code",
   "execution_count": null,
   "id": "655a41b0-2534-4257-af15-e8b0d6f7a3d7",
   "metadata": {},
   "outputs": [],
   "source": [
    "# While loop is used when we dont know how many times the loop is going to run before time.\n",
    "# Example : \n",
    "n = int(input(\"Enter a number\"))"
   ]
  },
  {
   "cell_type": "code",
   "execution_count": 23,
   "id": "026f795a-53ac-47dc-baed-c7750aa0224c",
   "metadata": {},
   "outputs": [
    {
     "name": "stdout",
     "output_type": "stream",
     "text": [
      "the sum of first 10 natural numbers is :  55\n",
      "the product of first 10 natural numbers is :  3628800\n"
     ]
    }
   ],
   "source": [
    "# Question 2\n",
    "# Answer: Print the sum and product of first 10 ntural number using For loop.\n",
    "a = 0\n",
    "b = 1\n",
    "\n",
    "for i in range(1,11):\n",
    "    a+=i\n",
    "    b*=i\n",
    "    \n",
    "print(\"the sum of first 10 natural numbers is : \",a)\n",
    "print(\"the product of first 10 natural numbers is : \",b)"
   ]
  },
  {
   "cell_type": "code",
   "execution_count": 4,
   "id": "442fcc24-85ab-40f5-bb70-b02babbb8294",
   "metadata": {},
   "outputs": [
    {
     "name": "stdout",
     "output_type": "stream",
     "text": [
      "the sum of first 10 natural numbers is :  55\n",
      "the product of first 10 natural numbers is :  3628800\n"
     ]
    }
   ],
   "source": [
    "# Answer : Print the sum and product of first 10 ntural number using While loop.\n",
    "i = 1\n",
    "a = 0\n",
    "b = 1\n",
    "\n",
    "while i < 11:\n",
    "    a+=i\n",
    "    b*=i\n",
    "    i+=1\n",
    "    \n",
    "print(\"the sum of first 10 natural numbers is : \",a)\n",
    "print(\"the product of first 10 natural numbers is : \",b)   "
   ]
  },
  {
   "cell_type": "code",
   "execution_count": 20,
   "id": "220b0e8f-f2d7-4ccb-80d2-4175afe97de6",
   "metadata": {},
   "outputs": [
    {
     "name": "stdin",
     "output_type": "stream",
     "text": [
      "Enter the units of electricity consumed :  310\n"
     ]
    },
    {
     "name": "stdout",
     "output_type": "stream",
     "text": [
      "2250\n"
     ]
    }
   ],
   "source": [
    "# Question 3\n",
    "# Answer : \n",
    "electricity_units = int(input(\"Enter the units of electricity consumed : \"))\n",
    "total_electricity_bill = 0\n",
    "\n",
    "if(electricity_units <= 100):\n",
    "    total_electricity_bill = electricity_units*4.5\n",
    "elif(electricity_units > 100 and electricity_units <= 200):\n",
    "    total_electricity_bill = (electricity_units-100)*6+450\n",
    "elif(electricity_units > 200 and electricity_units <= 300):\n",
    "    total_electricity_bill = (electricity_units-200)*10+1050\n",
    "elif(electricity_units > 300):\n",
    "    total_electricity_bill = (electricity_units-300)*20+2050\n",
    "    \n",
    "print(total_electricity_bill)"
   ]
  },
  {
   "cell_type": "code",
   "execution_count": 21,
   "id": "0b03969e-c126-4ab9-8745-9b0eb946f476",
   "metadata": {},
   "outputs": [
    {
     "name": "stdout",
     "output_type": "stream",
     "text": [
      "[2, 4, 5, 6, 8, 10, 12, 14, 15, 16, 18, 20, 22, 24, 25, 26, 28, 30, 32, 34, 35, 36, 38, 40, 42, 44, 45, 46, 48, 50, 52, 54, 55, 56, 58, 60, 62, 64, 65, 66, 68, 70, 72, 74, 75, 76, 78, 80, 82, 84, 85, 86, 88, 90, 92, 94, 95, 96, 98, 100]\n"
     ]
    }
   ],
   "source": [
    "# Question 4 \n",
    "# Answer : \n",
    "l = []\n",
    "\n",
    "for i in range(1,101):\n",
    "    l.append(i)\n",
    "    \n",
    "new_l = []\n",
    "for i in l:\n",
    "    if(((i**3)%4 == 0) or ((i**3)%5 == 0)):\n",
    "        new_l.append(i)\n",
    "        \n",
    "print(new_l)"
   ]
  },
  {
   "cell_type": "code",
   "execution_count": 22,
   "id": "e7d724df-5364-4f06-a8fc-f7e2f77c900e",
   "metadata": {},
   "outputs": [
    {
     "name": "stdout",
     "output_type": "stream",
     "text": [
      "12\n"
     ]
    }
   ],
   "source": [
    "# Question 5\n",
    "# Answer : \n",
    "string = \"I want to become a data scientist\"\n",
    "string = string.upper()\n",
    "count = 0\n",
    "\n",
    "for i in string:\n",
    "    for s in i:\n",
    "        if(i == 'A' or i == 'E' or i == 'I' or i == 'O' or i == 'U'):\n",
    "            count+=1\n",
    "            \n",
    "print(count)"
   ]
  },
  {
   "cell_type": "code",
   "execution_count": null,
   "id": "2e188e01-ec7c-4ecc-b902-c30cfbcb06bf",
   "metadata": {},
   "outputs": [],
   "source": []
  }
 ],
 "metadata": {
  "kernelspec": {
   "display_name": "Python 3 (ipykernel)",
   "language": "python",
   "name": "python3"
  },
  "language_info": {
   "codemirror_mode": {
    "name": "ipython",
    "version": 3
   },
   "file_extension": ".py",
   "mimetype": "text/x-python",
   "name": "python",
   "nbconvert_exporter": "python",
   "pygments_lexer": "ipython3",
   "version": "3.10.8"
  }
 },
 "nbformat": 4,
 "nbformat_minor": 5
}
