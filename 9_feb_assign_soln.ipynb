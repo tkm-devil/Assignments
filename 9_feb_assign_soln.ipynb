{
 "cells": [
  {
   "cell_type": "markdown",
   "id": "3ad26a45-6cb9-4bd0-86e0-3dd6737c051e",
   "metadata": {},
   "source": [
    "# Question 1\n",
    "Answer : A vehicle class with an init method having instance variables as name_of_vehicle, max_speed\n",
    "and average_of_vehicle."
   ]
  },
  {
   "cell_type": "code",
   "execution_count": 2,
   "id": "21f05bad-ca75-49db-9902-425cff3c15d9",
   "metadata": {},
   "outputs": [],
   "source": [
    "class Vehicle : \n",
    "    \n",
    "    def __init__(self, name_of_vehicle, max_speed, average_of_vehicle) :\n",
    "        self.__name_of_vehicle = name_of_vehicle\n",
    "        self.__max_speed = max_speed\n",
    "        self.__average_of_vehicle = average_of_vehicle\n",
    "        \n",
    "    def get_name(self) :\n",
    "        return self.__name_of_vehicle\n",
    "    \n",
    "    def get_max_speed(self):\n",
    "        return self.__max_speed\n",
    "    \n",
    "    def get_average_of_vehicle(self):\n",
    "        return self.__average_of_vehicle"
   ]
  },
  {
   "cell_type": "code",
   "execution_count": 3,
   "id": "7072f8ed-218c-4a5a-bf40-baecf6fffe0b",
   "metadata": {},
   "outputs": [],
   "source": [
    "a = Vehicle(\"Truck\",120,5.95)"
   ]
  },
  {
   "cell_type": "code",
   "execution_count": 4,
   "id": "f244ed0d-2eab-4ec8-ae5f-8df55e93937e",
   "metadata": {},
   "outputs": [
    {
     "data": {
      "text/plain": [
       "'Truck'"
      ]
     },
     "execution_count": 4,
     "metadata": {},
     "output_type": "execute_result"
    }
   ],
   "source": [
    "a.get_name()"
   ]
  },
  {
   "cell_type": "code",
   "execution_count": 5,
   "id": "ad97c02e-f15e-45b6-b58b-17185b095992",
   "metadata": {},
   "outputs": [
    {
     "data": {
      "text/plain": [
       "120"
      ]
     },
     "execution_count": 5,
     "metadata": {},
     "output_type": "execute_result"
    }
   ],
   "source": [
    "a.get_max_speed()"
   ]
  },
  {
   "cell_type": "code",
   "execution_count": 6,
   "id": "402b63f3-4226-41ab-9b5f-b16c2205aa1f",
   "metadata": {},
   "outputs": [
    {
     "data": {
      "text/plain": [
       "5.95"
      ]
     },
     "execution_count": 6,
     "metadata": {},
     "output_type": "execute_result"
    }
   ],
   "source": [
    "a.get_average_of_vehicle()"
   ]
  },
  {
   "cell_type": "markdown",
   "id": "b30fbe12-cb3f-4bf9-b521-6ac969102469",
   "metadata": {},
   "source": [
    "# Question 2\n",
    "Answer : "
   ]
  },
  {
   "cell_type": "code",
   "execution_count": 7,
   "id": "cc42fdc6-e62e-4fb3-8023-8803a27c9b17",
   "metadata": {},
   "outputs": [],
   "source": [
    "class Car(Vehicle) :\n",
    "    \n",
    "    def __init__(self) : \n",
    "        pass\n",
    "    \n",
    "    def seating_capacity(self,capacity) :\n",
    "        self.__capacity = capacity\n",
    "        v = Vehicle(\"Car\",200,6.67)\n",
    "        vehicle_name = v.get_name()\n",
    "        return (vehicle_name,self.__capacity)"
   ]
  },
  {
   "cell_type": "code",
   "execution_count": 8,
   "id": "f220ceca-f408-44ee-bd80-7b8afd397a62",
   "metadata": {},
   "outputs": [],
   "source": [
    "c = Car()"
   ]
  },
  {
   "cell_type": "code",
   "execution_count": 15,
   "id": "904312cf-460c-4e64-aede-09845b8de83b",
   "metadata": {},
   "outputs": [
    {
     "data": {
      "text/plain": [
       "('Car', 4)"
      ]
     },
     "execution_count": 15,
     "metadata": {},
     "output_type": "execute_result"
    }
   ],
   "source": [
    "c.seating_capacity(4)"
   ]
  },
  {
   "cell_type": "markdown",
   "id": "9423ff8c-53f1-44c2-91f5-8b4ea453dd40",
   "metadata": {},
   "source": [
    "# Question 3\n",
    "Answer : Multiple Inheritance - When the derived class can use the methods of two or more base class than Multiple Inheritance comes in play."
   ]
  },
  {
   "cell_type": "code",
   "execution_count": 11,
   "id": "14d194d6-2b4c-49cc-b68c-4619f8abd5c5",
   "metadata": {},
   "outputs": [],
   "source": [
    "# Exmaple\n",
    "class Father:\n",
    "    fathername = \"\"\n",
    "    def father(self):\n",
    "        print(self.fathername)\n",
    "\n",
    "class Mother:\n",
    "    mothername = \"\"\n",
    "    def mother(self):\n",
    "        print(self.mothername)\n",
    "\n",
    "class Child(Mother, Father):\n",
    "    def parents(self):\n",
    "        print(\"Father :\", self.fathername)\n",
    "        print(\"Mother :\", self.mothername)"
   ]
  },
  {
   "cell_type": "code",
   "execution_count": 12,
   "id": "d733cba2-000c-47ad-816e-eaa33450bc02",
   "metadata": {},
   "outputs": [],
   "source": [
    "t = Child()"
   ]
  },
  {
   "cell_type": "code",
   "execution_count": 13,
   "id": "6efe9be1-5d5f-40e6-a617-d964417e8480",
   "metadata": {},
   "outputs": [],
   "source": [
    "t.fathername = \"Kluas\"\n",
    "t.mothername = \"Hayley\""
   ]
  },
  {
   "cell_type": "code",
   "execution_count": 14,
   "id": "b9989701-93d0-4086-88e1-26720d5fade1",
   "metadata": {},
   "outputs": [
    {
     "name": "stdout",
     "output_type": "stream",
     "text": [
      "Father : Kluas\n",
      "Mother : Hayley\n"
     ]
    }
   ],
   "source": [
    "t.parents()"
   ]
  },
  {
   "cell_type": "markdown",
   "id": "48f30a6d-1174-4717-96c2-8ca7b1489e3e",
   "metadata": {},
   "source": [
    "# Question 4\n",
    "Answer : \n",
    "    Getter - It is a method in OOPs used to access private members in a class. \n",
    "    Setter - It is a method in OOPs used to set or chanfe the value of private member in a class."
   ]
  },
  {
   "cell_type": "code",
   "execution_count": 36,
   "id": "4592c0e9-98e3-4d89-b300-0fc49b2b0706",
   "metadata": {},
   "outputs": [],
   "source": [
    "# Example\n",
    "class Students() : \n",
    "    \n",
    "    def __init__(self,Name,ID,Mobile_No) : \n",
    "        self.__Student_Name = Name\n",
    "        self.__Student_ID = ID\n",
    "        self.__Student_Mobile_No = Mobile_No\n",
    "    \n",
    "    # Getter\n",
    "    @property\n",
    "    def mobile_no_access(self) : \n",
    "        return self.__Student_Mobile_No\n",
    "    \n",
    "    # Setter\n",
    "    @mobile_no_access.setter\n",
    "    def mobile_no_setter(self,Mobile_No) : \n",
    "        self.__Student_Mobile_No = Mobile_No"
   ]
  },
  {
   "cell_type": "code",
   "execution_count": 37,
   "id": "48aae3f0-5c94-48d9-987b-7ffe0e373d42",
   "metadata": {},
   "outputs": [],
   "source": [
    "s = Students(\"Tilak\",\"21ME8073\",1234567890)"
   ]
  },
  {
   "cell_type": "code",
   "execution_count": 38,
   "id": "3a17ec1c-9f34-46bc-885d-735f17232c13",
   "metadata": {},
   "outputs": [
    {
     "ename": "AttributeError",
     "evalue": "'Students' object has no attribute 'Student_Mobile_No'",
     "output_type": "error",
     "traceback": [
      "\u001b[0;31m---------------------------------------------------------------------------\u001b[0m",
      "\u001b[0;31mAttributeError\u001b[0m                            Traceback (most recent call last)",
      "Cell \u001b[0;32mIn[38], line 1\u001b[0m\n\u001b[0;32m----> 1\u001b[0m \u001b[43ms\u001b[49m\u001b[38;5;241;43m.\u001b[39;49m\u001b[43mStudent_Mobile_No\u001b[49m\n",
      "\u001b[0;31mAttributeError\u001b[0m: 'Students' object has no attribute 'Student_Mobile_No'"
     ]
    }
   ],
   "source": [
    "s.Student_Mobile_No"
   ]
  },
  {
   "cell_type": "markdown",
   "id": "adea6305-afc1-4358-8c50-d9641e5f5e3f",
   "metadata": {},
   "source": [
    "On the above code we are trying to access the private members directly thats why we are getting error."
   ]
  },
  {
   "cell_type": "code",
   "execution_count": 41,
   "id": "2eca9c6d-8237-47e4-b978-713a2eb02942",
   "metadata": {},
   "outputs": [
    {
     "data": {
      "text/plain": [
       "1234567890"
      ]
     },
     "execution_count": 41,
     "metadata": {},
     "output_type": "execute_result"
    }
   ],
   "source": [
    "s.mobile_no_access"
   ]
  },
  {
   "cell_type": "code",
   "execution_count": 43,
   "id": "b006191c-b5e1-4360-9f8c-811eb3304d33",
   "metadata": {},
   "outputs": [],
   "source": [
    "s.mobile_no_setter = 9876543210"
   ]
  },
  {
   "cell_type": "code",
   "execution_count": 44,
   "id": "c4d94bfa-2b05-487c-bc97-c903021b1775",
   "metadata": {},
   "outputs": [
    {
     "data": {
      "text/plain": [
       "9876543210"
      ]
     },
     "execution_count": 44,
     "metadata": {},
     "output_type": "execute_result"
    }
   ],
   "source": [
    "s.mobile_no_access"
   ]
  },
  {
   "cell_type": "markdown",
   "id": "956181eb-d975-4b9b-a9e8-af91d4013ad2",
   "metadata": {},
   "source": [
    "# Question 5\n",
    "Answer : Method Overriding - It is ability of OOPs that allows Child class to provide specific implementation of a function that has been already implemented in the Parent class."
   ]
  },
  {
   "cell_type": "code",
   "execution_count": 50,
   "id": "79623368-5893-4cd7-b641-4c007ece6464",
   "metadata": {},
   "outputs": [],
   "source": [
    "# Example : \n",
    "class Parent():\n",
    "\n",
    "    def __init__(self):\n",
    "        self.value = \"This is Parent\"\n",
    "\n",
    "    def show(self):\n",
    "        print(self.value)"
   ]
  },
  {
   "cell_type": "code",
   "execution_count": 51,
   "id": "97d18898-c8af-43d4-9863-40b677621465",
   "metadata": {},
   "outputs": [],
   "source": [
    "class Child(Parent):\n",
    "\n",
    "    def __init__(self):\n",
    "        self.value = \"This is Child\"\n",
    "\n",
    "    def show(self):\n",
    "        print(self.value)"
   ]
  },
  {
   "cell_type": "code",
   "execution_count": 52,
   "id": "d1144745-f465-4572-bd31-59e4d65a2ecd",
   "metadata": {},
   "outputs": [],
   "source": [
    "a,b = Parent(),Child()"
   ]
  },
  {
   "cell_type": "code",
   "execution_count": 53,
   "id": "1f1debc3-4707-4b78-9e72-d144f0070d46",
   "metadata": {},
   "outputs": [
    {
     "name": "stdout",
     "output_type": "stream",
     "text": [
      "This is Parent\n"
     ]
    }
   ],
   "source": [
    "a.show()"
   ]
  },
  {
   "cell_type": "code",
   "execution_count": 54,
   "id": "6afb08e4-d70b-448b-b566-e5a429863697",
   "metadata": {},
   "outputs": [
    {
     "name": "stdout",
     "output_type": "stream",
     "text": [
      "This is Child\n"
     ]
    }
   ],
   "source": [
    "b.show()"
   ]
  },
  {
   "cell_type": "code",
   "execution_count": null,
   "id": "2e3bf74f-238f-4e05-9596-812b4f2e5326",
   "metadata": {},
   "outputs": [],
   "source": []
  }
 ],
 "metadata": {
  "kernelspec": {
   "display_name": "Python 3 (ipykernel)",
   "language": "python",
   "name": "python3"
  },
  "language_info": {
   "codemirror_mode": {
    "name": "ipython",
    "version": 3
   },
   "file_extension": ".py",
   "mimetype": "text/x-python",
   "name": "python",
   "nbconvert_exporter": "python",
   "pygments_lexer": "ipython3",
   "version": "3.10.8"
  }
 },
 "nbformat": 4,
 "nbformat_minor": 5
}
