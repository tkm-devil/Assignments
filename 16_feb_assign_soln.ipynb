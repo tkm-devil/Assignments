{
 "cells": [
  {
   "cell_type": "markdown",
   "id": "f3e16671-77b1-4eef-8a25-9c374a7f6022",
   "metadata": {},
   "source": [
    "# Question 1\n",
    "Answer : Database - It is a structured collection of data that is stored and organized in a way that makes it easy to access, manage, and update.\n",
    "        \n",
    "        SQL Databases - These are relational databases that use a table-based data model. They have a pre-defined schema, which means that the structure of the data is determined in advance, and any data that is added to the database must conform to this structure.\n",
    "        NoSQL Databases - These are non-relational databases that use a variety of data models, such as document-based, key-value, and graph-based data models. They are schema-flexible, which means that data can be added to the database without first defining a schema. "
   ]
  },
  {
   "cell_type": "markdown",
   "id": "d26571d7-6a6a-43ea-b11b-11dfb2ebe452",
   "metadata": {},
   "source": [
    "# Question 2\n",
    "Answer : DDL stands for Data Definition Language, which is a set of SQL commands used to define, modify, and delete database objects."
   ]
  },
  {
   "cell_type": "markdown",
   "id": "d1351514-6920-4971-b247-38156ba0dc3a",
   "metadata": {},
   "source": [
    "        1. CREATE - The CREATE command is used to create a new database object such as a table."
   ]
  },
  {
   "cell_type": "markdown",
   "id": "389fc8c4-6ff3-4191-896e-e5989ed065e3",
   "metadata": {},
   "source": [
    "            Example - \n",
    "            CREATE TABLE customers (\n",
    "                id INT,\n",
    "                name VARCHAR(50),\n",
    "                email VARCHAR(100)\n",
    "            );\n"
   ]
  },
  {
   "cell_type": "markdown",
   "id": "158ab597-9306-4de8-9a2b-9b353c7f64f4",
   "metadata": {},
   "source": [
    "        2. DROP - The DROP command is used to delete a database object such as a table.\n",
    "            Example -\n",
    "            DROP TABLE customers;"
   ]
  },
  {
   "cell_type": "markdown",
   "id": "75deed70-dbb1-4ec3-a01f-e55617eeef26",
   "metadata": {},
   "source": [
    "        3. ALTER - The ALTER command is used to modify the structure of a database object such as a table.\n",
    "            Example - \n",
    "            ALTER TABLE customers ADD phone VARCHAR(20);"
   ]
  },
  {
   "cell_type": "markdown",
   "id": "6470d08e-608f-475e-a2e4-71f8a3f929a4",
   "metadata": {},
   "source": [
    "        4. TRUNCATE - The TRUNCATE command is used to delete all the data from a table while keeping the structure of the table intact.\n",
    "            Example - \n",
    "            TRUNCATE TABLE customers;"
   ]
  },
  {
   "cell_type": "markdown",
   "id": "692dfed9-9f59-4f4e-ba02-3520a0445b2c",
   "metadata": {},
   "source": [
    "# Question 3\n",
    "Answer : DML stands for Data Manipulation Language, which is a set of SQL commands used to manipulate the data stored in a database."
   ]
  },
  {
   "cell_type": "markdown",
   "id": "14ed0f4e-0eec-48d9-ab5c-c42850631c1f",
   "metadata": {},
   "source": [
    "        1. INSERT - The INSERT command is used to add new rows to a table.\n",
    "            Example - \n",
    "            INSERT INTO customers (id, name, email) VALUES (1, 'Tilak Mishra', 'tilak@gmail.com');"
   ]
  },
  {
   "cell_type": "markdown",
   "id": "dc5a6c9f-a845-4f2b-8725-a3413d001e19",
   "metadata": {},
   "source": [
    "        2. UPDATE - The UPDATE command is used to modify existing rows in a table.\n",
    "            Example - \n",
    "            UPDATE customers SET email = 'tilakmishra@gmail.com' WHERE id = 1;"
   ]
  },
  {
   "cell_type": "markdown",
   "id": "6d29107d-969b-4c33-8661-2066f0d3c00d",
   "metadata": {},
   "source": [
    "        3. DELETE - The DELETE command is used to delete existing rows from a table.\n",
    "            Example - \n",
    "            DELETE FROM customers WHERE id = 1;"
   ]
  },
  {
   "cell_type": "markdown",
   "id": "59e86dc1-38c3-4753-9b34-05f738677b5d",
   "metadata": {},
   "source": [
    "# Question 4\n",
    "Answer : DQL stands for Data Query Language, which is a set of SQL commands used to retrieve data from a database. \n",
    "        The most commonly used DQL command is SELECT, which is used to retrieve data from one or more tables in a database.\n",
    "        \n",
    "        Example - We have a table \"employees\" and it contains the following columns: \"id\", \"name\", \"department\" and \"salary\". To retrieve the names and salaries of all employees in the \"HR\" department, we can use the following SQL statement:\n",
    "        \n",
    "        SELECT name, salary FROM employees WHERE department = 'HR';"
   ]
  },
  {
   "cell_type": "markdown",
   "id": "9cde6ed8-88ef-44ce-9949-463ded77a06c",
   "metadata": {},
   "source": [
    "# Question 5\n",
    "Answer : \n",
    "        \n",
    "        Primary Key - It is a unique identifier for each record in a table. It is a column or a set of columns that uniquely identifies each row in the table. The primary key is used to enforce data integrity and ensure that each record in the table is unique.\n",
    "        Foreign Key - It is a column or a set of columns in one table that refers to the primary key in another table. It is used to establish a link between two tables and enforce referential integrity."
   ]
  },
  {
   "cell_type": "markdown",
   "id": "304d084a-8653-4394-b7ef-d2035a1725b2",
   "metadata": {},
   "source": [
    "# Question 6\n",
    "Answer : Python code to connect MySQL to python."
   ]
  },
  {
   "cell_type": "markdown",
   "id": "70143e9b-ccd7-459c-acc4-0a61b6da69e5",
   "metadata": {},
   "source": [
    "import mysql.connector\n",
    "\n",
    "mydb = mysql.connector.connect( host=\"localhost\", user=\"username\", password=\"password\" )\n",
    "\n",
    "mycursor = mydb.cursor()\n",
    "\n",
    "mycursor.execute(\"SELECT * FROM customers\")\n",
    "\n",
    "result = mycursor.fetchall()\n",
    "\n",
    "for row in result: print(row)"
   ]
  },
  {
   "cell_type": "markdown",
   "id": "0b81f925-6b89-43b7-92e9-d160680ee56e",
   "metadata": {},
   "source": [
    "        cursor() - It is a method used to create a cursor object. The cursor object is used to execute SQL queries and fetch the results.\n",
    "        \n",
    "        execute() - It is a method of the cursor object is used to execute an SQL query. It takes an SQL query as a parameter and executes it on the database."
   ]
  },
  {
   "cell_type": "markdown",
   "id": "7341f200-9b12-4ada-9644-36240417e08e",
   "metadata": {},
   "source": [
    "# Question 7\n",
    "Answer : The order of execution of SQL clauses in an SQL query are :-\n",
    "        \n",
    "        1. FROM\n",
    "        2. WHERE\n",
    "        3. GROUP BY\n",
    "        4. HAVING\n",
    "        5. SELECT\n",
    "        6. ORDER BY\n",
    "        7. LIMIT"
   ]
  },
  {
   "cell_type": "code",
   "execution_count": null,
   "id": "cccdcc0f-7c38-449d-b736-d2112df10245",
   "metadata": {},
   "outputs": [],
   "source": []
  }
 ],
 "metadata": {
  "kernelspec": {
   "display_name": "Python 3 (ipykernel)",
   "language": "python",
   "name": "python3"
  },
  "language_info": {
   "codemirror_mode": {
    "name": "ipython",
    "version": 3
   },
   "file_extension": ".py",
   "mimetype": "text/x-python",
   "name": "python",
   "nbconvert_exporter": "python",
   "pygments_lexer": "ipython3",
   "version": "3.10.8"
  }
 },
 "nbformat": 4,
 "nbformat_minor": 5
}
