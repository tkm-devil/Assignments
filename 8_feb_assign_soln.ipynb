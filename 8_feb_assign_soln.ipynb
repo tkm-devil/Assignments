{
 "cells": [
  {
   "cell_type": "markdown",
   "id": "05e75916-eac7-4a6c-a475-624b71ef64e1",
   "metadata": {},
   "source": [
    "# Question 1\n",
    "\n",
    "Answer : Abtsract Classes can serve as a blueprint for the other classes. It allows you to create a set of methods that must be created within any child classes built from the abstract class. Abtract class contains method which only has a declaration but do not have implementation.\n",
    "\n",
    "Example : A Shape abtract class"
   ]
  },
  {
   "cell_type": "code",
   "execution_count": 1,
   "id": "fed4eea3-e4f4-4cc7-ab86-a91ac26e6a04",
   "metadata": {},
   "outputs": [],
   "source": [
    "import abc\n",
    "\n",
    "class shape :\n",
    "    @abc.abstractmethod\n",
    "    def noofsides(self):\n",
    "        pass"
   ]
  },
  {
   "cell_type": "code",
   "execution_count": 2,
   "id": "08db2f33-df0e-48ea-8af7-510ea1adc75c",
   "metadata": {},
   "outputs": [],
   "source": [
    "class triangle(shape) :\n",
    "    def noofsides(self):\n",
    "        print(\"3 sides\")"
   ]
  },
  {
   "cell_type": "code",
   "execution_count": 3,
   "id": "081dbf71-5424-4ff8-a411-cc3fae9e383d",
   "metadata": {},
   "outputs": [],
   "source": [
    "class square(shape) :\n",
    "    def noofsides(self):\n",
    "        print(\"4 sides\")"
   ]
  },
  {
   "cell_type": "code",
   "execution_count": 4,
   "id": "8df39c32-c9da-494f-adf7-fdbec9c98cba",
   "metadata": {},
   "outputs": [],
   "source": [
    "t,s = triangle(),square()"
   ]
  },
  {
   "cell_type": "code",
   "execution_count": 5,
   "id": "081e6b90-a610-410d-ac34-ac6677b6ea8a",
   "metadata": {},
   "outputs": [
    {
     "name": "stdout",
     "output_type": "stream",
     "text": [
      "3 sides\n"
     ]
    }
   ],
   "source": [
    "t.noofsides()"
   ]
  },
  {
   "cell_type": "code",
   "execution_count": 6,
   "id": "da8638aa-38d5-4fb5-9574-927b2eba2c12",
   "metadata": {},
   "outputs": [
    {
     "name": "stdout",
     "output_type": "stream",
     "text": [
      "4 sides\n"
     ]
    }
   ],
   "source": [
    "s.noofsides()"
   ]
  },
  {
   "cell_type": "markdown",
   "id": "acc3d10c-aacb-497a-a61a-d1287f481306",
   "metadata": {},
   "source": [
    "# Question 2\n",
    "\n",
    "Answer : \n",
    "\n",
    "    Encapsulation - As the name suggests it covers and protect our data and code from the user so that he cannot change the default data and functions of our class. Inner layout used in terms of implementation. \n",
    "\n",
    "    Abstraction - It means creating a blueprint class so that other similar class will use the same function defined in other abstract class. Outer layout used in terms of design."
   ]
  },
  {
   "cell_type": "code",
   "execution_count": 7,
   "id": "6d70aea0-eb6e-40bb-b572-4a8cd0bfa061",
   "metadata": {},
   "outputs": [],
   "source": [
    "# Encapsulation Exmaple :-\n",
    "class bank_account:\n",
    "    def __init__(self,balance):\n",
    "        self.__balance = balance\n",
    "    \n",
    "    def deposit(self,amount):\n",
    "        self.__balance+=amount\n",
    "        \n",
    "    def withdraw(self,amount):\n",
    "        if self.__balance >= amount:\n",
    "            self.__balance-=amount\n",
    "            return True\n",
    "        else:\n",
    "            return False\n",
    "        \n",
    "    def get_balance(self):\n",
    "        return self.__balance"
   ]
  },
  {
   "cell_type": "code",
   "execution_count": 8,
   "id": "0477e864-7c95-4163-80c2-42b790c063c9",
   "metadata": {},
   "outputs": [],
   "source": [
    "b = bank_account(10000)"
   ]
  },
  {
   "cell_type": "code",
   "execution_count": 9,
   "id": "e26a94cb-0d68-491d-881e-53f97916395d",
   "metadata": {},
   "outputs": [
    {
     "ename": "AttributeError",
     "evalue": "'bank_account' object has no attribute 'balance'",
     "output_type": "error",
     "traceback": [
      "\u001b[0;31m---------------------------------------------------------------------------\u001b[0m",
      "\u001b[0;31mAttributeError\u001b[0m                            Traceback (most recent call last)",
      "Cell \u001b[0;32mIn[9], line 1\u001b[0m\n\u001b[0;32m----> 1\u001b[0m \u001b[43mb\u001b[49m\u001b[38;5;241;43m.\u001b[39;49m\u001b[43mbalance\u001b[49m\n",
      "\u001b[0;31mAttributeError\u001b[0m: 'bank_account' object has no attribute 'balance'"
     ]
    }
   ],
   "source": [
    "b.balance"
   ]
  },
  {
   "cell_type": "markdown",
   "id": "5d49c507-8f55-42ec-91c4-86801ed64883",
   "metadata": {},
   "source": [
    "As we can see that we get an error in accesing a private member in the class. This how Encapsulation protects our data as a developer from the outside users."
   ]
  },
  {
   "cell_type": "code",
   "execution_count": 10,
   "id": "9d69c19b-3afc-4e0a-9bff-608e5e76cbf3",
   "metadata": {},
   "outputs": [],
   "source": [
    "# Abstraction Exmaple\n",
    "import abc\n",
    "\n",
    "class shape :\n",
    "    @abc.abstractmethod\n",
    "    def noofsides(self):\n",
    "        pass"
   ]
  },
  {
   "cell_type": "code",
   "execution_count": 11,
   "id": "34a06853-ce2b-4c4b-8d78-aa6d273dd3e0",
   "metadata": {},
   "outputs": [],
   "source": [
    "class triangle(shape) :\n",
    "    def noofsides(self):\n",
    "        print(\"3 sides\")"
   ]
  },
  {
   "cell_type": "code",
   "execution_count": 12,
   "id": "5d0588e6-1dd3-41d9-a5dd-dfbb3e0a00c5",
   "metadata": {},
   "outputs": [],
   "source": [
    "class square(shape) :\n",
    "    def noofsides(self):\n",
    "        print(\"4 sides\")"
   ]
  },
  {
   "cell_type": "code",
   "execution_count": 13,
   "id": "d3b77b7b-615f-4616-ba5e-7f74f7a895a5",
   "metadata": {},
   "outputs": [],
   "source": [
    "t,s = triangle(),square()"
   ]
  },
  {
   "cell_type": "code",
   "execution_count": 14,
   "id": "08523ce6-d808-4130-b58a-54a61b639f89",
   "metadata": {},
   "outputs": [
    {
     "name": "stdout",
     "output_type": "stream",
     "text": [
      "3 sides\n"
     ]
    }
   ],
   "source": [
    "t.noofsides()"
   ]
  },
  {
   "cell_type": "code",
   "execution_count": 15,
   "id": "62aace4b-dd65-4558-b865-50f96af8792e",
   "metadata": {},
   "outputs": [
    {
     "name": "stdout",
     "output_type": "stream",
     "text": [
      "4 sides\n"
     ]
    }
   ],
   "source": [
    "s.noofsides()"
   ]
  },
  {
   "cell_type": "markdown",
   "id": "01262fa1-d879-48cd-8838-1fc04ab40119",
   "metadata": {},
   "source": [
    "As we can see that the above shape class is simply a blueprint from classes like triangle, square, etc. This how \n",
    "Abstraction works."
   ]
  },
  {
   "cell_type": "markdown",
   "id": "fed640c9-c7e1-4ba8-88e1-0804ebb8893e",
   "metadata": {},
   "source": [
    "# Question 3\n",
    "Answer : The 'abc' module in python provides us the infrastructure for defining custom abstract base classes. It is very important module from abstraction as it marks the method of abtract classes as abtract with the help abstractmethod decorator."
   ]
  },
  {
   "cell_type": "markdown",
   "id": "f3dff27a-907f-4ac1-9d06-2fac3134e963",
   "metadata": {},
   "source": [
    "# Question 4\n",
    "\n",
    "Answer : We can achieve data abstraction by using abstract classes and method with the help of abc module in python. "
   ]
  },
  {
   "cell_type": "markdown",
   "id": "124a25ce-bc8e-4ccd-abe2-cc3c85e0ff6e",
   "metadata": {},
   "source": [
    "# Question 5\n",
    "\n",
    "Answer : No, we cannot create the instance of an abstract classes because the implementation of abtract classes in incomplete. The main purpose of creating an abstract classes is serve as a template or blueprint for our subclasses therfore we cannot create an instance of abstract classes. "
   ]
  },
  {
   "cell_type": "code",
   "execution_count": null,
   "id": "01c5a318-284e-4636-8287-7cfa968cf9f6",
   "metadata": {},
   "outputs": [],
   "source": []
  }
 ],
 "metadata": {
  "kernelspec": {
   "display_name": "Python 3 (ipykernel)",
   "language": "python",
   "name": "python3"
  },
  "language_info": {
   "codemirror_mode": {
    "name": "ipython",
    "version": 3
   },
   "file_extension": ".py",
   "mimetype": "text/x-python",
   "name": "python",
   "nbconvert_exporter": "python",
   "pygments_lexer": "ipython3",
   "version": "3.10.8"
  }
 },
 "nbformat": 4,
 "nbformat_minor": 5
}
