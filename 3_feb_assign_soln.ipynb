{
 "cells": [
  {
   "cell_type": "code",
   "execution_count": 1,
   "id": "f5c80b52-eed5-4b13-887f-3003869ef705",
   "metadata": {},
   "outputs": [],
   "source": [
    "# Question 1\n",
    "# Answer : 'def' keyword is used to create a function in python.\n",
    "\n",
    "# Function to return a list of odd numbers from 1 to 25\n",
    "def returns_odd():\n",
    "    l = []\n",
    "    for i in range(1,26):\n",
    "        if i%2 != 0:\n",
    "            l.append(i)\n",
    "    return l"
   ]
  },
  {
   "cell_type": "code",
   "execution_count": 2,
   "id": "f95f0d35-b49c-403a-ba06-34f9da925806",
   "metadata": {},
   "outputs": [
    {
     "data": {
      "text/plain": [
       "[1, 3, 5, 7, 9, 11, 13, 15, 17, 19, 21, 23, 25]"
      ]
     },
     "execution_count": 2,
     "metadata": {},
     "output_type": "execute_result"
    }
   ],
   "source": [
    "returns_odd()"
   ]
  },
  {
   "cell_type": "code",
   "execution_count": 7,
   "id": "15ddcb3f-9197-4114-b28b-0a1f0f80d935",
   "metadata": {},
   "outputs": [],
   "source": [
    "# Question 2\n",
    "# Answer : *args - It allows us to pass any number of non-keyword arguments to a function.\n",
    "# Example\n",
    "\n",
    "def fun(*args):\n",
    "    for arg in args:\n",
    "        return args"
   ]
  },
  {
   "cell_type": "code",
   "execution_count": 8,
   "id": "c3945f8f-e786-4318-b69c-1fd517030ae3",
   "metadata": {},
   "outputs": [
    {
     "data": {
      "text/plain": [
       "('hello', 'world')"
      ]
     },
     "execution_count": 8,
     "metadata": {},
     "output_type": "execute_result"
    }
   ],
   "source": [
    "fun(\"hello\",\"world\")"
   ]
  },
  {
   "cell_type": "code",
   "execution_count": 15,
   "id": "06cc9553-b4ac-421a-90c7-4de7605aca79",
   "metadata": {},
   "outputs": [],
   "source": [
    "# **kwargs - It allows us to pass any number of keyword arguments to a function.\n",
    "# Example\n",
    "def fun1(**kwargs):\n",
    "    for k , v in kwargs.items():\n",
    "        print(\"%s == %s\" % (k, v))"
   ]
  },
  {
   "cell_type": "code",
   "execution_count": 17,
   "id": "2b383290-3acf-444e-a370-2c0ffffa2a3d",
   "metadata": {},
   "outputs": [
    {
     "name": "stdout",
     "output_type": "stream",
     "text": [
      "first == Hello\n",
      "second == World\n",
      "third == My\n",
      "fourth == Name\n",
      "fifth == Is\n",
      "sixth == Tilak\n"
     ]
    }
   ],
   "source": [
    "fun1(first = 'Hello',second = 'World',third = 'My', fourth = 'Name', fifth = 'Is', sixth = 'Tilak')"
   ]
  },
  {
   "cell_type": "code",
   "execution_count": null,
   "id": "a9aecc44-f554-4e2e-b8f3-ecb1bf44ac01",
   "metadata": {},
   "outputs": [],
   "source": [
    "# Question 3\n",
    "# Answer : Iterator is an object used to iterate over iterable objects like lists,tuple,sets.\n",
    "#          iter() method is used for the initialization of iterator.\n",
    "#          next() method is used for the iteration."
   ]
  },
  {
   "cell_type": "code",
   "execution_count": 22,
   "id": "214b00b6-1129-4bb8-92b8-b96c1ec5dcd1",
   "metadata": {},
   "outputs": [],
   "source": [
    "l = [2, 4, 6, 8, 10, 12, 14, 16, 18, 20]\n",
    "i = iter(l)\n"
   ]
  },
  {
   "cell_type": "code",
   "execution_count": 24,
   "id": "f6334dd0-656d-4eca-ac4e-91f291d32d6a",
   "metadata": {},
   "outputs": [
    {
     "name": "stdout",
     "output_type": "stream",
     "text": [
      "2\n"
     ]
    }
   ],
   "source": [
    "print(next(i))"
   ]
  },
  {
   "cell_type": "code",
   "execution_count": 25,
   "id": "a7418fdf-f235-4225-b05f-2498f65ee976",
   "metadata": {},
   "outputs": [
    {
     "name": "stdout",
     "output_type": "stream",
     "text": [
      "4\n"
     ]
    }
   ],
   "source": [
    "print(next(i))"
   ]
  },
  {
   "cell_type": "code",
   "execution_count": 26,
   "id": "8182543c-0406-4a0e-b491-5a62ecaf6343",
   "metadata": {},
   "outputs": [
    {
     "name": "stdout",
     "output_type": "stream",
     "text": [
      "6\n"
     ]
    }
   ],
   "source": [
    "print(next(i))"
   ]
  },
  {
   "cell_type": "code",
   "execution_count": 27,
   "id": "24418a2f-98fd-4333-a057-52c751fb3e2f",
   "metadata": {},
   "outputs": [
    {
     "name": "stdout",
     "output_type": "stream",
     "text": [
      "8\n"
     ]
    }
   ],
   "source": [
    "print(next(i))"
   ]
  },
  {
   "cell_type": "code",
   "execution_count": 28,
   "id": "0258996f-5261-46c6-90d9-93626a23cedd",
   "metadata": {},
   "outputs": [
    {
     "name": "stdout",
     "output_type": "stream",
     "text": [
      "10\n"
     ]
    }
   ],
   "source": [
    "print(next(i))"
   ]
  },
  {
   "cell_type": "code",
   "execution_count": 1,
   "id": "599eacef-b6fa-4229-a996-04f2cba971b4",
   "metadata": {},
   "outputs": [],
   "source": [
    "# Question 4\n",
    "# Answer : Generator function that returns an iterator that produces a sequence of\n",
    "# values when iterated over. It is useful when we want to produce a large sequence \n",
    "# but we don't want to store all of them in memory at once.\n",
    "# yield - It is a keyword that return a generator object instead of simply returning the value.\n",
    "#         It is highly memory efficient and saves time.\n",
    "\n",
    "\n",
    "def count_test(n):\n",
    "    count = 1\n",
    "    while count <= n:\n",
    "        yield count\n",
    "        count+=1"
   ]
  },
  {
   "cell_type": "code",
   "execution_count": 2,
   "id": "459ccd54-8adc-46b3-8659-4acd60980dac",
   "metadata": {},
   "outputs": [
    {
     "name": "stdout",
     "output_type": "stream",
     "text": [
      "1\n",
      "2\n",
      "3\n",
      "4\n",
      "5\n"
     ]
    }
   ],
   "source": [
    "c = count_test(5)\n",
    "for i in c:\n",
    "    print(i)"
   ]
  },
  {
   "cell_type": "code",
   "execution_count": 24,
   "id": "2accc5be-0bea-45d7-9155-e3794d1e86d7",
   "metadata": {},
   "outputs": [],
   "source": [
    "# Question 5\n",
    "# Answer : generator function for prime numbers less than 1000.\n",
    "def generate_prime():\n",
    "    for num in range(1, 1000):\n",
    "        if num > 1:\n",
    "            for i in range(2, num):\n",
    "                if (num % i) == 0:\n",
    "                    break\n",
    "            else:\n",
    "                yield num"
   ]
  },
  {
   "cell_type": "code",
   "execution_count": 25,
   "id": "bd52d681-6b44-443d-8052-74c0d7fe6e9c",
   "metadata": {},
   "outputs": [],
   "source": [
    "p = generate_prime()"
   ]
  },
  {
   "cell_type": "code",
   "execution_count": 26,
   "id": "0f7b3d50-bd47-441e-b6ff-a6ce9e624975",
   "metadata": {},
   "outputs": [
    {
     "name": "stdout",
     "output_type": "stream",
     "text": [
      "2\n",
      "3\n",
      "5\n",
      "7\n",
      "11\n",
      "13\n",
      "17\n",
      "19\n",
      "23\n",
      "29\n",
      "31\n",
      "37\n",
      "41\n",
      "43\n",
      "47\n",
      "53\n",
      "59\n",
      "61\n",
      "67\n",
      "71\n"
     ]
    }
   ],
   "source": [
    "for i in range(1,21):\n",
    "    print(next(p))"
   ]
  },
  {
   "cell_type": "code",
   "execution_count": 5,
   "id": "be9308b3-d672-48bd-a929-0ee9addce2f0",
   "metadata": {},
   "outputs": [
    {
     "name": "stdout",
     "output_type": "stream",
     "text": [
      "0\n",
      "1\n",
      "1\n",
      "2\n",
      "3\n",
      "5\n",
      "8\n",
      "13\n",
      "21\n",
      "34\n"
     ]
    }
   ],
   "source": [
    "# Question 6\n",
    "# Answer : Python program to print first 10 fibonacci numbers using while loop\n",
    "\n",
    "a,b = 0,1\n",
    "i = 1\n",
    "while i <= 10:\n",
    "    print(a)\n",
    "    a,b = b,a+b\n",
    "    i+=1"
   ]
  },
  {
   "cell_type": "code",
   "execution_count": 7,
   "id": "c9235452-03ce-4a11-b624-cbbaffb7834f",
   "metadata": {},
   "outputs": [
    {
     "name": "stdout",
     "output_type": "stream",
     "text": [
      "['p', 'w', 's', 'k', 'i', 'l', 'l', 's']\n"
     ]
    }
   ],
   "source": [
    "# Question 7\n",
    "# Answer : List comprehension\n",
    "string = \"pwskills\"\n",
    "l = [i for i in string]\n",
    "print(l)"
   ]
  },
  {
   "cell_type": "code",
   "execution_count": 12,
   "id": "fc07e8e2-9d9a-456d-af98-f13bb35fb01d",
   "metadata": {},
   "outputs": [
    {
     "name": "stdin",
     "output_type": "stream",
     "text": [
      "Enter a number 242\n"
     ]
    },
    {
     "name": "stdout",
     "output_type": "stream",
     "text": [
      "242  Is palindrome\n"
     ]
    }
   ],
   "source": [
    "# Question 8\n",
    "# Answer : Python program to check if a number is palindrome or not using while loop.\n",
    "\n",
    "n = int(input(\"Enter a number\"))\n",
    "temp = n\n",
    "rev = 0\n",
    "while temp:\n",
    "    rem = temp%10\n",
    "    rev = rev*10 + rem\n",
    "    temp=int(temp/10)\n",
    "if(n == rev):\n",
    "    print(n,\" Is palindrome\")\n",
    "else:\n",
    "    print(n,\" Is not palindrome\")"
   ]
  },
  {
   "cell_type": "code",
   "execution_count": 15,
   "id": "c72baaa2-52f0-49db-a8cd-bde260cf9fe0",
   "metadata": {},
   "outputs": [],
   "source": [
    "# Question 9\n",
    "# Answer : print odd numbers from 1 to 100 using list comprehension.\n",
    "\n",
    "l = [i for i in range(1,101)]\n",
    "\n",
    "l1 = [i for i in l if i%2!=0]"
   ]
  },
  {
   "cell_type": "code",
   "execution_count": 16,
   "id": "0777db5f-5c15-4473-8e58-29acefa7fde5",
   "metadata": {},
   "outputs": [
    {
     "data": {
      "text/plain": [
       "[1,\n",
       " 3,\n",
       " 5,\n",
       " 7,\n",
       " 9,\n",
       " 11,\n",
       " 13,\n",
       " 15,\n",
       " 17,\n",
       " 19,\n",
       " 21,\n",
       " 23,\n",
       " 25,\n",
       " 27,\n",
       " 29,\n",
       " 31,\n",
       " 33,\n",
       " 35,\n",
       " 37,\n",
       " 39,\n",
       " 41,\n",
       " 43,\n",
       " 45,\n",
       " 47,\n",
       " 49,\n",
       " 51,\n",
       " 53,\n",
       " 55,\n",
       " 57,\n",
       " 59,\n",
       " 61,\n",
       " 63,\n",
       " 65,\n",
       " 67,\n",
       " 69,\n",
       " 71,\n",
       " 73,\n",
       " 75,\n",
       " 77,\n",
       " 79,\n",
       " 81,\n",
       " 83,\n",
       " 85,\n",
       " 87,\n",
       " 89,\n",
       " 91,\n",
       " 93,\n",
       " 95,\n",
       " 97,\n",
       " 99]"
      ]
     },
     "execution_count": 16,
     "metadata": {},
     "output_type": "execute_result"
    }
   ],
   "source": [
    "l1"
   ]
  },
  {
   "cell_type": "code",
   "execution_count": null,
   "id": "14a80ce8-efba-40fa-a9a8-30608bcfaecd",
   "metadata": {},
   "outputs": [],
   "source": []
  }
 ],
 "metadata": {
  "kernelspec": {
   "display_name": "Python 3 (ipykernel)",
   "language": "python",
   "name": "python3"
  },
  "language_info": {
   "codemirror_mode": {
    "name": "ipython",
    "version": 3
   },
   "file_extension": ".py",
   "mimetype": "text/x-python",
   "name": "python",
   "nbconvert_exporter": "python",
   "pygments_lexer": "ipython3",
   "version": "3.10.8"
  }
 },
 "nbformat": 4,
 "nbformat_minor": 5
}
