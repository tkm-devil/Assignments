{
 "cells": [
  {
   "cell_type": "markdown",
   "id": "80f61d1b-6235-485e-b874-0d31a3e6b7b1",
   "metadata": {},
   "source": [
    "# Question 1\n",
    "Answer : Statistics is the study of data and the methods used to collect, analyze, interpret, and present that data. It involves the use of mathematical tools and techniques to summarize and describe the characteristics of a dataset, make predictions based on that data, and test hypotheses about the relationships between variables. Statistics is used in many fields, including science, engineering, medicine, social sciences, business, and finance."
   ]
  },
  {
   "cell_type": "markdown",
   "id": "5dfca43f-e717-4be1-b250-48e4528c5262",
   "metadata": {},
   "source": [
    "# Question 2\n",
    "Answer : Types of Statistics :-\n",
    "\n",
    "        1. Descriptive Statistics -  Descriptive statistics involves the analysis and summary of data through numerical measures and visual representations. It describes the main features of a dataset and provides insights into the patterns and trends in the data.\n",
    "        example - distribution of sales over time in an company.\n",
    "        2. Inferential Statistics - Inferential statistics involves making inferences and drawing conclusions about a population based on a sample of data. It uses statistical methods to test hypotheses, estimate population parameters, and assess the level of uncertainty associated with the results.\n",
    "        example - before doing the mass production of covid 19 vaccine for large population it was tested on sample of few persons."
   ]
  },
  {
   "cell_type": "markdown",
   "id": "f0e749b3-da46-4600-b20d-56d3152f8d49",
   "metadata": {},
   "source": [
    "# Question 3\n",
    "Answer : There are 4 types of data :-\n",
    "\n",
    "        1. Nominal data: This type of data is categorical and used to classify data into mutually exclusive categories that don't have an inherent order. \n",
    "            Example - Gender,colors,etc.\n",
    "        \n",
    "        2. Ordinal data: This type of data is also categorical and used to classify data into ordered categories. Ordinal data is qualitative but has an inherent order.\n",
    "            Example - The grading system of class like A+,A,B+,B,C+,C etc.\n",
    "            \n",
    "        3. Continuous data: This type of data is quantitative and used to measure data on a scale where the distance between values is meaningful. Interval data is quantitative but does not have a true zero point. \n",
    "            Example - The temperature scale.\n",
    "            \n",
    "        4. Discrete data: It is a type of quantitative data that consists of individual, separate values that are countable and can be expressed in whole numbers. These values are typically integers and cannot be broken down into smaller units. \n",
    "            Exmaple - Number of bank account, number of children in a family."
   ]
  },
  {
   "cell_type": "markdown",
   "id": "28c0340a-fabd-4524-95ab-f7add7d7fdaa",
   "metadata": {},
   "source": [
    "# Question 4\n",
    "Answer : \n",
    "\n",
    "        (i) Qualitative data - Ordinal data\n",
    "        (ii) Qualitative data - Nominal data\n",
    "        (iii) Quantitative data - Continuous data\n",
    "        (iv) Quantitative data - Discrete data"
   ]
  },
  {
   "cell_type": "markdown",
   "id": "67df6a72-9a95-404e-b21e-11703ebc8cea",
   "metadata": {},
   "source": [
    "# Question 5\n",
    "Answer : There are 4 types of levels of measurement :-\n",
    "        \n",
    "        1. Nominal level of measurement: This is the lowest level of measurement and is used to classify data into mutually exclusive categories that don't have an inherent order.\n",
    "            Example - gender, eye color, or favorite color.\n",
    "            \n",
    "        2. Ordinal level of measurement: This level of measurement is used to classify data into ordered categories. Ordinal data has an inherent order, but the differences between categories cannot be measured or is irrelevant.\n",
    "            Example - education level, customer satisfaction rating.\n",
    "        \n",
    "        3. Interval level of measurement: This level of measurement is used to measure data on a scale where the distance between values is meaningful. Differences between values is measured and is also relevant, but there is no true zero point.\n",
    "            Example - Temperature scale, time of day.\n",
    "            \n",
    "        4. Ratio level of measurement: This level of measurement is the highest level of measurement and is used to measure data on a scale where the distance between values is meaningful and there is a true zero point. Ratio data has equal differences between values, and ratios are meaningful\n",
    "            Example - height,weight,marke of student in class."
   ]
  },
  {
   "cell_type": "markdown",
   "id": "7a4ad692-746a-445d-af07-66669cbc8930",
   "metadata": {},
   "source": [
    "# Question 6\n",
    "Answer : Understanding the level of measurement of data is important when analyzing data because it helps to determine the appropriate statistical methods that can be used to analyze the data, as well as the type of interpretation that can be made from the results. Different levels of measurement require different statistical techniques because they have different properties.\n",
    "        \n",
    "        Example - Consider a study that measures the level of education (nominal level) and income (ratio level) of a sample of individuals. If the researcher wants to describe the relationship between education and income, they cannot use a correlation coefficient because it assumes that both variables are measured at least on an interval level. Instead, they could use a contingency table to summarize the relationship between the two variables."
   ]
  },
  {
   "cell_type": "markdown",
   "id": "9f62b6b3-1f96-4105-be65-49e03f079df2",
   "metadata": {},
   "source": [
    "# Question 7\n",
    "Answer : \n",
    "\n",
    "        Nominal data type :-\n",
    "        1. Represents data that is categorical or qualitative.\n",
    "        2. Values are mutually exclusive categories with no numerical relationship.\n",
    "        3. Cannot be arranged in a meaningful order.\n",
    "        4. Examples are gender, favorite color.\n",
    "        \n",
    "        Ordinal data type:-\n",
    "        1. Represents data that is categorical or qualitative and has an inherent order.\n",
    "        2. Values are ordered categories with an implied rank or position.\n",
    "        3. Can be arranged in a meaningful order, but the distance between values is not necessarily equal.\n",
    "        4. Examples are education level, customer satisfaction rating."
   ]
  },
  {
   "cell_type": "markdown",
   "id": "2537a8b5-4ed0-4727-9564-a0aacab6fbaf",
   "metadata": {},
   "source": [
    "# Question 8\n",
    "Answer : A box plot, also known as a box and whisker plot, can be used to display data in terms of range. A box plot displays the range of the data using the interquartile range (IQR), which is the range between the 25th and 75th percentiles, and the whiskers extend to the minimum and maximum values of the data (with some possible outliers indicated by dots or asterisks). The median, or middle value of the data, is shown as a line or box within the IQR."
   ]
  },
  {
   "cell_type": "markdown",
   "id": "f059ef4f-2a13-4780-b4ba-02c3922ee37d",
   "metadata": {},
   "source": [
    "# Question 9\n",
    "Answer : \n",
    "\n",
    "        Descriptive Statistics: It is used to summarize and describe the main features of a dataset. They involve analyzing and presenting the data in a way that helps to identify patterns, trends, and relationships. Some examples of descriptive statistics include measures of central tendency (such as mean, median, and mode) and measures of variability (such as standard deviation and range).\n",
    "            Example - For example, a researcher might use descriptive statistics to summarize the heights of a group of people by calculating the mean height, median height, and range of heights in the sample.\n",
    "        \n",
    "        Inferential Statistics: It is used to make inferences or draw conclusions about a larger population based on a smaller sample of data. They involve analyzing the sample data to make generalizations or predictions about the population as a whole. Some examples of inferential statistics include hypothesis testing and confidence intervals.\n",
    "        Example -  if we want to determine whether the mean height of students in our class is representative of the mean height of all students at our school, we can use inferential statistics to test a hypothesis and make a prediction."
   ]
  },
  {
   "cell_type": "markdown",
   "id": "b42be362-e5e4-40b7-903d-8f14ddf9bab6",
   "metadata": {},
   "source": [
    "# Question 10\n",
    "Answer : \n",
    "\n",
    "        Measures of Central Tendency:\n",
    "        1. Mean - The mean is the average of all the values in a dataset. It is calculated by adding all the values together and dividing by the number of values. The mean is a useful measure of central tendency when the data is normally distributed, and there are no significant outliers\n",
    "        2. Median - The median is the middle value of a dataset when the data is arranged in order. It is a useful measure of central tendency when there are extreme values in the data or when the data is skewed.\n",
    "        3. Mode - The mode is the most frequently occurring value in a dataset. It is a useful measure of central tendency when dealing with categorical or nominal data. The mode is easy to compute and gives the most commonly occurring value in the data.\n",
    "        \n",
    "        Measures of Variability:\n",
    "        1. Range - The range is the difference between the maximum and minimum values in a dataset. It is a simple measure of variability and provides an idea of how spread out the data is. \n",
    "        2. Variance - The variance measures how much the data points vary from the mean. It is calculated by summing the squared differences between each data point and the mean and then dividing by the number of data points. A higher variance indicates more variability in the data.\n",
    "        3. Standard Deviation: The standard deviation is the square root of the variance and provides a measure of how much the data is spread out from the mean. It is a useful measure of variability when the data is normally distributed, and there are no significant outliers."
   ]
  },
  {
   "cell_type": "code",
   "execution_count": null,
   "id": "786800a6-2625-45db-97d3-0b300387604a",
   "metadata": {},
   "outputs": [],
   "source": []
  }
 ],
 "metadata": {
  "kernelspec": {
   "display_name": "Python 3 (ipykernel)",
   "language": "python",
   "name": "python3"
  },
  "language_info": {
   "codemirror_mode": {
    "name": "ipython",
    "version": 3
   },
   "file_extension": ".py",
   "mimetype": "text/x-python",
   "name": "python",
   "nbconvert_exporter": "python",
   "pygments_lexer": "ipython3",
   "version": "3.10.8"
  }
 },
 "nbformat": 4,
 "nbformat_minor": 5
}
