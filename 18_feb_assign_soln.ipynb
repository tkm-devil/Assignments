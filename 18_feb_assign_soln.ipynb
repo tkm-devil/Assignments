{
 "cells": [
  {
   "cell_type": "markdown",
   "id": "2c8d4ac7-f0c7-4ea4-803c-5a8e73617270",
   "metadata": {},
   "source": [
    "# Question 1\n",
    "Answer : \n",
    "\n",
    "        API - It is a set of protocols, routines, and tools for building software applications. An API provides a way for different software applications to communicate with each other.\n",
    "        \n",
    "        Real life example - We all use weather app on our phone. The app doesn't have the capability to predict the weather on its own. Instead, it connects to a weather API to get the most up-to-date weather information. The API provides the app with the data it needs to display the current weather conditions, forecast, and other related information."
   ]
  },
  {
   "cell_type": "markdown",
   "id": "88503e5e-2583-463c-b812-d78846a7dd31",
   "metadata": {},
   "source": [
    "# Question 2\n",
    "Answer : \n",
    "\n",
    "        Advantages of using API :- \n",
    "        1. Improved Efficiency\n",
    "        2. Integration\n",
    "        3. Flexibility\n",
    "        4. Scalability\n",
    "        5. Innovation\n",
    "        \n",
    "        Disadvantages of using API :-\n",
    "        1. Security Risks\n",
    "        2. Complexity\n",
    "        3. Dependency\n",
    "        4. Data Integration\n",
    "        5. Compatibility"
   ]
  },
  {
   "cell_type": "markdown",
   "id": "6b823912-cf75-475f-898b-f33324018e81",
   "metadata": {
    "tags": []
   },
   "source": [
    "# Question 3\n",
    "Answer : \n",
    "\n",
    "        Web API - It is a type of API that is accessed over the internet using HTTP (Hypertext Transfer Protocol). Web APIs allow applications to interact with each other over the web, enabling developers to integrate data and functionality from various sources.\n",
    "        \n",
    "        \n",
    "        The main difference between API and Web API is that APIs are a general term that refers to any set of protocols and tools that software developers use to build applications. In contrast, Web APIs specifically refer to APIs that are accessed over the internet using HTTP. Web APIs use standard HTTP methods like GET, POST, PUT, and DELETE to exchange data between systems."
   ]
  },
  {
   "cell_type": "markdown",
   "id": "b70bdb57-755a-4dab-a9ea-8b2dd2181697",
   "metadata": {
    "tags": []
   },
   "source": [
    "# Question 4\n",
    "Answer : \n",
    "\n",
    "        REST Architecture - It is a web architecture that uses a stateless client-server communication protocol, typically HTTP, to transfer data between applications. RESTful APIs are designed to be lightweight and scalable, making them a popular choice for building web services that can be accessed by a wide range of clients, including mobile devices and web browsers.\n",
    "        \n",
    "        SOAP Architecture - It is a messaging protocol that uses XML to transfer data between applications. SOAP APIs are designed to be platform-independent and support a wide range of languages and protocols.\n",
    "        \n",
    "        \n",
    "        Shortcomings of SOAP :-\n",
    "        1. Complexity\n",
    "        2. Performance\n",
    "        3. Platform-dependent\n",
    "        4. Limited browser support"
   ]
  },
  {
   "cell_type": "markdown",
   "id": "f44ef677-f6d9-414d-ba31-be9aa6aa1b8c",
   "metadata": {},
   "source": [
    "# Question 5\n",
    "Answer :\n",
    "\n",
    "        REST :-\n",
    "        1. Uses HTTP for communication.\n",
    "        2. Relies on a stateless client-server architecture.\n",
    "        3. Supports a wide range of data formats, including JSON and XML.\n",
    "        4. Uses simple URL-based resource identifiers (URIs) to access resources.\n",
    "        5. Uses standard HTTP methods (GET, POST, PUT, DELETE) to interact with resources.\n",
    "    \n",
    "    \n",
    "        SOAP :-\n",
    "        1. Uses XML for communication.\n",
    "        2. Relies on a stateful client-server architecture.\n",
    "        3. Supports a limited range of data formats, primarily XML.\n",
    "        4. Uses an XML-based messaging format for communication.\n",
    "        5. Uses specialized protocols and standards, such as WSDL (Web Services Description Language) and SOAP headers, for interaction."
   ]
  }
 ],
 "metadata": {
  "kernelspec": {
   "display_name": "Python 3 (ipykernel)",
   "language": "python",
   "name": "python3"
  },
  "language_info": {
   "codemirror_mode": {
    "name": "ipython",
    "version": 3
   },
   "file_extension": ".py",
   "mimetype": "text/x-python",
   "name": "python",
   "nbconvert_exporter": "python",
   "pygments_lexer": "ipython3",
   "version": "3.10.8"
  }
 },
 "nbformat": 4,
 "nbformat_minor": 5
}
